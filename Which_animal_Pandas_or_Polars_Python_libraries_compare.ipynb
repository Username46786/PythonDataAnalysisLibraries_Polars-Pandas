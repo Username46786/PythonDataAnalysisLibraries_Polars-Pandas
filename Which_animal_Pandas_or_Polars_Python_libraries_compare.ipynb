{
 "cells": [
  {
   "cell_type": "markdown",
   "metadata": {},
   "source": [
    "<p style=\"text-align:center\">\n",
    "    <a href=\"https://skills.network/?utm_medium=Exinfluencer&utm_source=Exinfluencer&utm_content=000026UJ&utm_term=10006555&utm_id=NA-SkillsNetwork-Channel-SkillsNetworkGuidedProjectsIBMSkillsNetworkGPXX0BM6EN2207-2022-01-01\" target=\"_blank\">\n",
    "    <img src=\"https://cf-courses-data.s3.us.cloud-object-storage.appdomain.cloud/assets/logos/SN_web_lightmode.png\" width=\"200\" alt=\"Skills Network Logo\"  />\n",
    "    </a>\n",
    "</p>\n"
   ]
  },
  {
   "cell_type": "markdown",
   "metadata": {},
   "source": [
    "# **Pandas or Polars? Which Python library is right for you?**\n"
   ]
  },
  {
   "cell_type": "markdown",
   "metadata": {},
   "source": [
    "Estimated time needed: **30** minutes\n"
   ]
  },
  {
   "cell_type": "markdown",
   "metadata": {},
   "source": [
    "<img src=\"https://cf-courses-data.s3.us.cloud-object-storage.appdomain.cloud/IBMSkillsNetwork-GPXX0BM6EN/images/Pandasvspolars.png\" width=\"70%\">\n",
    "\n",
    "Everyone has their own favorite library for data analysis project. The goal of this project is to compare the capabilities of two popular Python libraries, `Polars` and `Pandas`, in terms of data analysis. In this project, we will examine the strengths and limitations of each library, as well as the scenarios in which they are most useful.\n",
    "\n",
    "The project will start by providing an overview of how the same common data analysis tasks could be done by the two libraries, and then demonstrate how they are different. We especially compare the features and performance of `Polars` and `Pandas` when working with large datasets, and explore how they can be combined to effectively preprocess and visualize data.\n",
    "\n",
    "The project will provide insights into the different use cases for each library and highlight their strengths and weaknesses. Ultimately, this project will help data scientists, engineers, and analysts determine which library is the best fit for their specific data visualization and analysis needs.\n"
   ]
  },
  {
   "cell_type": "markdown",
   "metadata": {},
   "source": [
    "## __Table of Contents__\n",
    "\n",
    "<ol>\n",
    "    <li><a href=\"#Objectives\">Objectives</a></li>\n",
    "    <li>\n",
    "        <a href=\"#Setup\">Setup</a>\n",
    "        <ol>\n",
    "            <li><a href=\"#Installing-Required-Libraries\">Installing Required Libraries</a></li>\n",
    "            <li><a href=\"#Importing-Required-Libraries\">Importing Required Libraries</a></li>\n",
    "            <li><a href=\"#Defining-Helper-Functions\">Defining Helper Functions</a></li>\n",
    "        </ol>\n",
    "    </li>\n",
    "    <li><a href=\"#Library-introduction\">Library introduction</a></li>\n",
    "    <li>\n",
    "        <a href=\"#Common-data-analysis-task-by-the-two-libraries\">Common data analysis task by the two libraries</a>\n",
    "        <ol>\n",
    "            <li><a href=\"#Get/Save-data\">Get/Save data</a></li>\n",
    "            <li><a href=\"#View-data\">View data</a></li>\n",
    "            <li><a href=\"#Expression-methods\">Expression methods</a></li>\n",
    "        </ol>\n",
    "    </li>\n",
    "    <li>\n",
    "        <a href=\"#Which-library-should-we-choose?\">Which library should we choose?</a>\n",
    "        <ol>\n",
    "            <li><a href=\"#Read-data\">Read data</a></li>\n",
    "            <li><a href=\"#Select-columns\">Select columns</a></li>\n",
    "            <li><a href=\"#Filter\">Filter</a></li>\n",
    "            <li><a href=\"#Calculation-and-creating-new-columns\">Calculation and creating new columns</a></li>\n",
    "        </ol>\n",
    "    </li>\n",
    "    <li>\n",
    "        <a href=\"#Exercises\">Exercises</a>\n",
    "        <ol>\n",
    "            <li><a href=\"#Exercise-1---Loading-a-dataset\">Exercise 1. Loading a dataset</a></li>\n",
    "            <li><a href=\"#Exercise-2---Filtering-data\">Exercise 2. Filtering data</a></li>\n",
    "            <li><a href=\"#Exercise-3---Calculation-and-new-lines\">Exercise 3. Calculation and new lines</a></li>\n",
    "        </ol>\n",
    "    </li>\n"
   ]
  },
  {
   "cell_type": "markdown",
   "metadata": {},
   "source": [
    "## Objectives\n",
    "\n",
    "After completing this lab you will be able to:\n",
    "\n",
    " - Learn how to analyse a DataFrame using `Pandas` abd `Polars`.\n",
    " - Compare the basic methods in `Pandas` and `Polars`.\n",
    " - Know the advantages of `Pandas` and `Polars`.\n"
   ]
  },
  {
   "cell_type": "markdown",
   "metadata": {},
   "source": [
    "----\n"
   ]
  },
  {
   "cell_type": "markdown",
   "metadata": {},
   "source": [
    "## Setup\n"
   ]
  },
  {
   "cell_type": "markdown",
   "metadata": {},
   "source": [
    "For this lab, we will be using the following libraries:\n",
    "\n",
    "*   [`Pandas`](https://pandas.pydata.org/?utm_medium=Exinfluencer&utm_source=Exinfluencer&utm_content=000026UJ&utm_term=10006555&utm_id=NA-SkillsNetwork-Channel-SkillsNetworkCoursesIBMML0187ENSkillsNetwork31430127-2021-01-01) for managing the data.\n",
    "*   [`Polars`](https://www.pola.rs/?utm_medium=Exinfluencer&utm_source=Exinfluencer&utm_content=000026UJ&utm_term=10006555&utm_id=NA-SkillsNetwork-Channel-SkillsNetworkGuidedProjectsIBMSkillsNetworkGPXX0BM6EN2207-2022-01-01) also for managing the data.\n",
    "*   [`Numpy`](https://numpy.org/?utm_medium=Exinfluencer&utm_source=Exinfluencer&utm_content=000026UJ&utm_term=10006555&utm_id=NA-SkillsNetwork-Channel-SkillsNetworkCoursesIBMML0187ENSkillsNetwork31430127-2021-01-01) for mathematical operations.\n",
    "*   [`Seaborn`](https://seaborn.pydata.org/?utm_medium=Exinfluencer&utm_source=Exinfluencer&utm_content=000026UJ&utm_term=10006555&utm_id=NA-SkillsNetwork-Channel-SkillsNetworkCoursesIBMML0187ENSkillsNetwork31430127-2021-01-01) for visualizing the data.\n",
    "*   [`Matplotlib`](https://matplotlib.org/?utm_medium=Exinfluencer&utm_source=Exinfluencer&utm_content=000026UJ&utm_term=10006555&utm_id=NA-SkillsNetwork-Channel-SkillsNetworkCoursesIBMML0187ENSkillsNetwork31430127-2021-01-01) for additional plotting tools.\n"
   ]
  },
  {
   "cell_type": "markdown",
   "metadata": {},
   "source": [
    "### Installing Required Libraries\n",
    "\n",
    "The following required libraries are pre-installed in the Skills Network Labs environment. However, if you run this notebook commands in a different Jupyter environment (e.g. Watson Studio or Ananconda), you will need to install these libraries by removing the `#` sign before `!mamba` in the code cell below.\n"
   ]
  },
  {
   "cell_type": "code",
   "execution_count": 1,
   "metadata": {
    "tags": []
   },
   "outputs": [
    {
     "name": "stdout",
     "output_type": "stream",
     "text": [
      "Could not solve for environment specs\n",
      "The following packages are incompatible\n",
      "├─ \u001b[32mmatplotlib 3.5.0 \u001b[0m is installable with the potential options\n",
      "│  ├─ \u001b[32mmatplotlib [2.2.2|3.1.2|...|3.5.3]\u001b[0m would require\n",
      "│  │  └─ \u001b[32mpyqt [ |>=5.6,<6.0a0 ]\u001b[0m with the potential options\n",
      "│  │     ├─ \u001b[32mpyqt 5.6.0\u001b[0m would require\n",
      "│  │     │  └─ \u001b[32mqt 5.6.* \u001b[0m with the potential options\n",
      "│  │     │     ├─ \u001b[32mqt 5.6.2\u001b[0m would require\n",
      "│  │     │     │  ├─ \u001b[32mgst-plugins-base >=1.12.2,<1.13.0a0 \u001b[0m, which requires\n",
      "│  │     │     │  │  └─ \u001b[32mgstreamer [>=1.12.2,<1.13.0a0 |>=1.12.4,<1.13.0a0 ]\u001b[0m, which requires\n",
      "│  │     │     │  │     └─ \u001b[32mglib >=2.53.6,<3.0a0 \u001b[0m, which can be installed;\n",
      "│  │     │     │  └─ \u001b[32mopenssl 1.0.* \u001b[0m, which can be installed;\n",
      "│  │     │     ├─ \u001b[32mqt 5.6.2\u001b[0m would require\n",
      "│  │     │     │  ├─ \u001b[32mglib >=2.53.6,<3.0a0 \u001b[0m, which can be installed;\n",
      "│  │     │     │  └─ \u001b[32mopenssl >=1.0.2n,<1.0.3a \u001b[0m, which can be installed;\n",
      "│  │     │     ├─ \u001b[32mqt 5.6.3\u001b[0m would require\n",
      "│  │     │     │  ├─ \u001b[32mglib >=2.56.1,<3.0a0 \u001b[0m, which can be installed;\n",
      "│  │     │     │  └─ \u001b[32mopenssl >=1.0.2o,<1.0.3a \u001b[0m, which can be installed;\n",
      "│  │     │     ├─ \u001b[32mqt 5.6.3\u001b[0m would require\n",
      "│  │     │     │  ├─ \u001b[32mglib >=2.56.1,<3.0a0 \u001b[0m, which can be installed;\n",
      "│  │     │     │  └─ \u001b[32mopenssl >=1.0.2p,<1.0.3a \u001b[0m, which can be installed;\n",
      "│  │     │     └─ \u001b[32mqt [5.6.3|5.9.7]\u001b[0m would require\n",
      "│  │     │        ├─ \u001b[32mfontconfig >=2.13.0,<3.0a0 \u001b[0m with the potential options\n",
      "│  │     │        │  ├─ \u001b[32mfontconfig 2.14.2\u001b[0m would require\n",
      "│  │     │        │  │  └─ \u001b[32mfreetype >=2.12.1,<3.0a0 \u001b[0m, which can be installed;\n",
      "│  │     │        │  ├─ \u001b[32mfontconfig [2.13.0|2.13.1]\u001b[0m would require\n",
      "│  │     │        │  │  └─ \u001b[32mlibuuid >=1.0.3,<2.0a0 \u001b[0m, which can be installed;\n",
      "│  │     │        │  ├─ \u001b[32mfontconfig 2.14.1\u001b[0m would require\n",
      "│  │     │        │  │  └─ \u001b[32mlibuuid >=1.41.5,<2.0a0 \u001b[0m, which can be installed;\n",
      "│  │     │        │  └─ \u001b[32mfontconfig 2.14.1\u001b[0m would require\n",
      "│  │     │        │     └─ \u001b[32mfreetype >=2.10.4,<3.0a0 \u001b[0m, which can be installed;\n",
      "│  │     │        └─ \u001b[32mglib >=2.56.2,<3.0a0 \u001b[0m, which can be installed;\n",
      "│  │     ├─ \u001b[32mpyqt [5.15.10|5.15.7|5.9.2]\u001b[0m would require\n",
      "│  │     │  └─ \u001b[32mpython >=3.10,<3.11.0a0 \u001b[0m, which can be installed;\n",
      "│  │     ├─ \u001b[32mpyqt [5.15.10|5.15.7]\u001b[0m would require\n",
      "│  │     │  └─ \u001b[32mpython >=3.11,<3.12.0a0 \u001b[0m, which can be installed;\n",
      "│  │     ├─ \u001b[32mpyqt 5.15.10\u001b[0m would require\n",
      "│  │     │  └─ \u001b[32mpython >=3.12,<3.13.0a0 \u001b[0m, which can be installed;\n",
      "│  │     ├─ \u001b[32mpyqt [5.15.10|5.15.7|5.9.2]\u001b[0m would require\n",
      "│  │     │  └─ \u001b[32mpython >=3.8,<3.9.0a0 \u001b[0m, which can be installed;\n",
      "│  │     ├─ \u001b[32mpyqt [5.15.10|5.15.7|5.9.2]\u001b[0m would require\n",
      "│  │     │  └─ \u001b[32mpython >=3.9,<3.10.0a0 \u001b[0m, which can be installed;\n",
      "│  │     ├─ \u001b[32mpyqt 5.15.7\u001b[0m would require\n",
      "│  │     │  └─ \u001b[32mqtwebkit 5.* \u001b[0m, which requires\n",
      "│  │     │     └─ \u001b[32mglib >=2.69.1,<3.0a0 \u001b[0m, which can be installed;\n",
      "│  │     ├─ \u001b[32mpyqt [5.6.0|5.9.2]\u001b[0m would require\n",
      "│  │     │  └─ \u001b[32mpython >=2.7,<2.8.0a0 \u001b[0m, which can be installed;\n",
      "│  │     ├─ \u001b[32mpyqt [5.6.0|5.9.2]\u001b[0m would require\n",
      "│  │     │  └─ \u001b[32mpython >=3.5,<3.6.0a0 \u001b[0m, which can be installed;\n",
      "│  │     ├─ \u001b[32mpyqt [5.6.0|5.9.2]\u001b[0m would require\n",
      "│  │     │  └─ \u001b[32mpython >=3.6,<3.7.0a0 \u001b[0m, which can be installed;\n",
      "│  │     └─ \u001b[32mpyqt 5.9.2\u001b[0m would require\n",
      "│  │        └─ \u001b[32mqt [5.9.* |>=5.9.6,<5.10.0a0 ]\u001b[0m with the potential options\n",
      "│  │           ├─ \u001b[32mqt [5.6.3|5.9.7]\u001b[0m, which can be installed (as previously explained);\n",
      "│  │           ├─ \u001b[32mqt 5.9.6\u001b[0m would require\n",
      "│  │           │  ├─ \u001b[32mglib >=2.56.1,<3.0a0 \u001b[0m, which can be installed;\n",
      "│  │           │  └─ \u001b[32mopenssl 1.0.* \u001b[0m, which can be installed;\n",
      "│  │           └─ \u001b[32mqt [5.9.4|5.9.5]\u001b[0m would require\n",
      "│  │              └─ \u001b[32mopenssl 1.0.* \u001b[0m, which can be installed;\n",
      "│  ├─ \u001b[32mmatplotlib [3.5.0|3.5.1|...|3.8.0]\u001b[0m would require\n",
      "│  │  └─ \u001b[32mpython >=3.10,<3.11.0a0 \u001b[0m, which can be installed;\n",
      "│  ├─ \u001b[32mmatplotlib [3.1.1|3.1.2|...|3.7.2]\u001b[0m would require\n",
      "│  │  └─ \u001b[32mpython >=3.8,<3.9.0a0 \u001b[0m, which can be installed;\n",
      "│  └─ \u001b[32mmatplotlib [3.3.4|3.4.2|...|3.8.0]\u001b[0m would require\n",
      "│     └─ \u001b[32mpython >=3.9,<3.10.0a0 \u001b[0m, which can be installed;\n",
      "├─ \u001b[31mnumpy 1.21.4 \u001b[0m does not exist (perhaps a typo or a missing channel);\n",
      "├─ \u001b[31mpolars 0.16.2 \u001b[0m does not exist (perhaps a typo or a missing channel);\n",
      "└─ \u001b[32mseaborn 0.9.0 \u001b[0m is installable with the potential options\n",
      "   ├─ \u001b[32mseaborn 0.9.0\u001b[0m would require\n",
      "   │  └─ \u001b[32mmatplotlib >=1.4.3 \u001b[0m with the potential options\n",
      "   │     ├─ \u001b[32mmatplotlib [2.2.2|3.1.2|...|3.5.3]\u001b[0m, which can be installed (as previously explained);\n",
      "   │     ├─ \u001b[32mmatplotlib [3.5.0|3.5.1|...|3.8.0]\u001b[0m, which can be installed (as previously explained);\n",
      "   │     ├─ \u001b[32mmatplotlib [3.1.1|3.1.2|...|3.7.2]\u001b[0m, which can be installed (as previously explained);\n",
      "   │     ├─ \u001b[32mmatplotlib [3.3.4|3.4.2|...|3.8.0]\u001b[0m, which can be installed (as previously explained);\n",
      "   │     ├─ \u001b[32mmatplotlib [2.0.2|2.1.0|...|2.2.3]\u001b[0m would require\n",
      "   │     │  └─ \u001b[32mpython >=2.7,<2.8.0a0 \u001b[0m, which can be installed;\n",
      "   │     ├─ \u001b[32mmatplotlib [2.0.2|2.1.0|...|3.0.0]\u001b[0m would require\n",
      "   │     │  └─ \u001b[32mpython >=3.5,<3.6.0a0 \u001b[0m, which can be installed;\n",
      "   │     ├─ \u001b[32mmatplotlib [2.0.2|2.1.0|...|3.3.4]\u001b[0m would require\n",
      "   │     │  └─ \u001b[32mpython >=3.6,<3.7.0a0 \u001b[0m, which can be installed;\n",
      "   │     ├─ \u001b[32mmatplotlib [2.2.3|3.0.0|...|3.1.2]\u001b[0m would require\n",
      "   │     │  └─ \u001b[32mpyqt 5.9.* \u001b[0m, which can be installed (as previously explained);\n",
      "   │     ├─ \u001b[32mmatplotlib [3.6.2|3.7.1|3.7.2|3.8.0]\u001b[0m would require\n",
      "   │     │  └─ \u001b[32mpython >=3.11,<3.12.0a0 \u001b[0m, which can be installed;\n",
      "   │     └─ \u001b[32mmatplotlib 3.8.0\u001b[0m would require\n",
      "   │        └─ \u001b[32mpython >=3.12,<3.13.0a0 \u001b[0m, which can be installed;\n",
      "   ├─ \u001b[32mseaborn 0.9.0\u001b[0m would require\n",
      "   │  └─ \u001b[32mpython >=2.7,<2.8.0a0 \u001b[0m, which can be installed;\n",
      "   ├─ \u001b[32mseaborn 0.9.0\u001b[0m would require\n",
      "   │  └─ \u001b[32mpython >=3.5,<3.6.0a0 \u001b[0m, which can be installed;\n",
      "   └─ \u001b[32mseaborn 0.9.0\u001b[0m would require\n",
      "      └─ \u001b[32mpython >=3.6,<3.7.0a0 \u001b[0m, which can be installed.\n"
     ]
    }
   ],
   "source": [
    "# All Libraries required for this lab are listed below. The libraries pre-installed on Skills Network Labs are commented.\n",
    "!mamba install -qy pandas==1.3.4 numpy==1.21.4 seaborn==0.9.0 matplotlib==3.5.0 scikit-learn==0.20.1 polars==0.16.2\n",
    "# Note: If your environment doesn't support \"!mamba install\", use \"!pip install\""
   ]
  },
  {
   "cell_type": "markdown",
   "metadata": {},
   "source": [
    "The following required libraries are __not__ pre-installed in the Skills Network Labs environment. __You will need to run the following cell__ to install them:\n"
   ]
  },
  {
   "cell_type": "code",
   "execution_count": 2,
   "metadata": {
    "tags": []
   },
   "outputs": [
    {
     "name": "stdout",
     "output_type": "stream",
     "text": [
      "Requirement already satisfied: tqdm in /home/jupyterlab/conda/envs/python/lib/python3.7/site-packages (4.60.0)\n",
      "Collecting polars\n",
      "  Downloading polars-0.18.4-cp37-abi3-manylinux_2_17_x86_64.manylinux2014_x86_64.whl (18.9 MB)\n",
      "\u001b[2K     \u001b[90m━━━━━━━━━━━━━━━━━━━━━━━━━━━━━━━━━━━━━━━━\u001b[0m \u001b[32m18.9/18.9 MB\u001b[0m \u001b[31m45.6 MB/s\u001b[0m eta \u001b[36m0:00:00\u001b[0m00:01\u001b[0m00:01\u001b[0m\n",
      "\u001b[?25hCollecting pyarrow\n",
      "  Downloading pyarrow-12.0.1-cp37-cp37m-manylinux_2_17_x86_64.manylinux2014_x86_64.whl (39.1 MB)\n",
      "\u001b[2K     \u001b[90m━━━━━━━━━━━━━━━━━━━━━━━━━━━━━━━━━━━━━━━━\u001b[0m \u001b[32m39.1/39.1 MB\u001b[0m \u001b[31m31.0 MB/s\u001b[0m eta \u001b[36m0:00:00\u001b[0m00:01\u001b[0m00:01\u001b[0m\n",
      "\u001b[?25hRequirement already satisfied: typing_extensions>=4.0.1 in /home/jupyterlab/conda/envs/python/lib/python3.7/site-packages (from polars) (4.5.0)\n",
      "Requirement already satisfied: numpy>=1.16.6 in /home/jupyterlab/conda/envs/python/lib/python3.7/site-packages (from pyarrow) (1.21.6)\n",
      "Installing collected packages: pyarrow, polars\n",
      "Successfully installed polars-0.18.4 pyarrow-12.0.1\n"
     ]
    }
   ],
   "source": [
    "!pip install tqdm polars pyarrow"
   ]
  },
  {
   "cell_type": "markdown",
   "metadata": {},
   "source": [
    "### Importing Required Libraries\n",
    "\n",
    "_We recommend you import all required libraries in one place (here):_\n"
   ]
  },
  {
   "cell_type": "code",
   "execution_count": 3,
   "metadata": {
    "tags": []
   },
   "outputs": [],
   "source": [
    "import skillsnetwork\n",
    "\n",
    "from tqdm import tqdm\n",
    "import random\n",
    "import string\n",
    "import datetime as dt\n",
    "\n",
    "import numpy as np\n",
    "import pandas as pd\n",
    "import polars as pl\n",
    "\n",
    "import matplotlib.pyplot as plt\n",
    "import seaborn as sns\n",
    "\n",
    "\n",
    "from tqdm import tqdm\n",
    "%matplotlib inline\n",
    "\n",
    "# You can also use this section to suppress warnings generated by your code:\n",
    "def warn(*args, **kwargs):\n",
    "    pass\n",
    "import warnings\n",
    "warnings.warn = warn\n",
    "warnings.filterwarnings('ignore')\n",
    "\n",
    "sns.set_context('notebook')\n",
    "sns.set_style('white')"
   ]
  },
  {
   "cell_type": "markdown",
   "metadata": {},
   "source": [
    "### Defining Helper Functions\n",
    "\n",
    "_Use this section to define any helper functions to help the notebook's code readability:_\n"
   ]
  },
  {
   "cell_type": "code",
   "execution_count": 4,
   "metadata": {
    "tags": []
   },
   "outputs": [],
   "source": [
    "# This function will allow us to easily plot data taking in x values, y values, and a title\n",
    "def plotter(x, y, title):\n",
    "    plt.plot(x, y)\n",
    "    plt.xlabel('X')\n",
    "    plt.ylabel('Y')\n",
    "    plt.title(title)\n",
    "    plt.show()"
   ]
  },
  {
   "cell_type": "markdown",
   "metadata": {},
   "source": [
    "----\n"
   ]
  },
  {
   "cell_type": "markdown",
   "metadata": {},
   "source": [
    "## Library introduction\n"
   ]
  },
  {
   "cell_type": "markdown",
   "metadata": {},
   "source": [
    "Both `Pandas` and `Polars` are libraries in Python for data analysis and manipulation. They provide data structures for efficiently storing and manipulating large datasets and a variety of methods for data cleaning, preprocessing, aggregation, and transformation.\n",
    "\n",
    "The two main data structures in the two libraries are the **Series** and **DataFrame**. A Series is a one-dimensional labeled array capable of holding any data type, while a DataFrame is a two-dimensional labeled data structure with columns of potentially different types. *We are focusing on the 2-D DataFrame in this project.*\n",
    "\n",
    "<img src=\"https://cf-courses-data.s3.us.cloud-object-storage.appdomain.cloud/IBMSkillsNetwork-GPXX0BM6EN/images/1.jpeg\" width=\"40%\">\n",
    "\n",
    "\n",
    "Unlike the widely-used `Pandas` stores the data as `Numpy` arrays, `Polars` is entirely based on Arrow data types and backed by Arrow memory arrays. This makes data processing cache-efficient and well-supported for Inter Process Communication. Most data types follow the exact implementation from Arrow, with exception of Utf8 (this is actually LargeUtf8), Categorical, and Object (support is limited).\n"
   ]
  },
  {
   "cell_type": "markdown",
   "metadata": {},
   "source": [
    "----\n"
   ]
  },
  {
   "cell_type": "markdown",
   "metadata": {},
   "source": [
    "## Common data analysis task by the two libraries\n"
   ]
  },
  {
   "cell_type": "markdown",
   "metadata": {},
   "source": [
    "Both `Pandas` and `Polars` could achieve daily data science tasks, here is how the code looks like:\n"
   ]
  },
  {
   "cell_type": "markdown",
   "metadata": {},
   "source": [
    "### Get/Save data\n"
   ]
  },
  {
   "cell_type": "markdown",
   "metadata": {},
   "source": [
    "Creating a **Dataframe** is easy and very smiliar for the two libraries. \n",
    "\n",
    "`Pandas`:\n"
   ]
  },
  {
   "cell_type": "code",
   "execution_count": 5,
   "metadata": {
    "tags": []
   },
   "outputs": [
    {
     "data": {
      "text/html": [
       "<div>\n",
       "<style scoped>\n",
       "    .dataframe tbody tr th:only-of-type {\n",
       "        vertical-align: middle;\n",
       "    }\n",
       "\n",
       "    .dataframe tbody tr th {\n",
       "        vertical-align: top;\n",
       "    }\n",
       "\n",
       "    .dataframe thead th {\n",
       "        text-align: right;\n",
       "    }\n",
       "</style>\n",
       "<table border=\"1\" class=\"dataframe\">\n",
       "  <thead>\n",
       "    <tr style=\"text-align: right;\">\n",
       "      <th></th>\n",
       "      <th>a</th>\n",
       "      <th>b</th>\n",
       "      <th>c</th>\n",
       "      <th>d</th>\n",
       "    </tr>\n",
       "  </thead>\n",
       "  <tbody>\n",
       "    <tr>\n",
       "      <th>0</th>\n",
       "      <td>0</td>\n",
       "      <td>0.768769</td>\n",
       "      <td>2022-12-01</td>\n",
       "      <td>1.0</td>\n",
       "    </tr>\n",
       "    <tr>\n",
       "      <th>1</th>\n",
       "      <td>1</td>\n",
       "      <td>0.884476</td>\n",
       "      <td>2022-12-02</td>\n",
       "      <td>2.0</td>\n",
       "    </tr>\n",
       "    <tr>\n",
       "      <th>2</th>\n",
       "      <td>2</td>\n",
       "      <td>0.299420</td>\n",
       "      <td>2022-12-03</td>\n",
       "      <td>NaN</td>\n",
       "    </tr>\n",
       "    <tr>\n",
       "      <th>3</th>\n",
       "      <td>3</td>\n",
       "      <td>0.759372</td>\n",
       "      <td>2022-12-04</td>\n",
       "      <td>NaN</td>\n",
       "    </tr>\n",
       "    <tr>\n",
       "      <th>4</th>\n",
       "      <td>4</td>\n",
       "      <td>0.019084</td>\n",
       "      <td>2022-12-05</td>\n",
       "      <td>0.0</td>\n",
       "    </tr>\n",
       "    <tr>\n",
       "      <th>5</th>\n",
       "      <td>5</td>\n",
       "      <td>0.474684</td>\n",
       "      <td>2022-12-06</td>\n",
       "      <td>-5.0</td>\n",
       "    </tr>\n",
       "    <tr>\n",
       "      <th>6</th>\n",
       "      <td>6</td>\n",
       "      <td>0.409743</td>\n",
       "      <td>2022-12-07</td>\n",
       "      <td>-42.0</td>\n",
       "    </tr>\n",
       "    <tr>\n",
       "      <th>7</th>\n",
       "      <td>7</td>\n",
       "      <td>0.290348</td>\n",
       "      <td>2022-12-08</td>\n",
       "      <td>NaN</td>\n",
       "    </tr>\n",
       "  </tbody>\n",
       "</table>\n",
       "</div>"
      ],
      "text/plain": [
       "   a         b          c     d\n",
       "0  0  0.768769 2022-12-01   1.0\n",
       "1  1  0.884476 2022-12-02   2.0\n",
       "2  2  0.299420 2022-12-03   NaN\n",
       "3  3  0.759372 2022-12-04   NaN\n",
       "4  4  0.019084 2022-12-05   0.0\n",
       "5  5  0.474684 2022-12-06  -5.0\n",
       "6  6  0.409743 2022-12-07 -42.0\n",
       "7  7  0.290348 2022-12-08   NaN"
      ]
     },
     "execution_count": 5,
     "metadata": {},
     "output_type": "execute_result"
    }
   ],
   "source": [
    "df1_pd = pd.DataFrame({\"a\": np.arange(0, 8), \n",
    "                   \"b\": np.random.rand(8), \n",
    "                   \"c\": [dt.datetime(2022, 12, 1) + dt.timedelta(days=idx) for idx in range(8)],\n",
    "                   \"d\": [1, 2.0, np.NaN, np.NaN, 0, -5, -42, None]\n",
    "                  })\n",
    "df1_pd"
   ]
  },
  {
   "cell_type": "markdown",
   "metadata": {},
   "source": [
    "`Polars`:\n"
   ]
  },
  {
   "cell_type": "code",
   "execution_count": 6,
   "metadata": {
    "tags": []
   },
   "outputs": [
    {
     "data": {
      "text/html": [
       "<div><style>\n",
       ".dataframe > thead > tr > th,\n",
       ".dataframe > tbody > tr > td {\n",
       "  text-align: right;\n",
       "}\n",
       "</style>\n",
       "<small>shape: (8, 4)</small><table border=\"1\" class=\"dataframe\"><thead><tr><th>a</th><th>b</th><th>c</th><th>d</th></tr><tr><td>i64</td><td>f64</td><td>datetime[μs]</td><td>f64</td></tr></thead><tbody><tr><td>0</td><td>0.041047</td><td>2022-12-01 00:00:00</td><td>1.0</td></tr><tr><td>1</td><td>0.535464</td><td>2022-12-02 00:00:00</td><td>2.0</td></tr><tr><td>2</td><td>0.570044</td><td>2022-12-03 00:00:00</td><td>NaN</td></tr><tr><td>3</td><td>0.194183</td><td>2022-12-04 00:00:00</td><td>NaN</td></tr><tr><td>4</td><td>0.796046</td><td>2022-12-05 00:00:00</td><td>0.0</td></tr><tr><td>5</td><td>0.851494</td><td>2022-12-06 00:00:00</td><td>-5.0</td></tr><tr><td>6</td><td>0.944507</td><td>2022-12-07 00:00:00</td><td>-42.0</td></tr><tr><td>7</td><td>0.597031</td><td>2022-12-08 00:00:00</td><td>null</td></tr></tbody></table></div>"
      ],
      "text/plain": [
       "shape: (8, 4)\n",
       "┌─────┬──────────┬─────────────────────┬───────┐\n",
       "│ a   ┆ b        ┆ c                   ┆ d     │\n",
       "│ --- ┆ ---      ┆ ---                 ┆ ---   │\n",
       "│ i64 ┆ f64      ┆ datetime[μs]        ┆ f64   │\n",
       "╞═════╪══════════╪═════════════════════╪═══════╡\n",
       "│ 0   ┆ 0.041047 ┆ 2022-12-01 00:00:00 ┆ 1.0   │\n",
       "│ 1   ┆ 0.535464 ┆ 2022-12-02 00:00:00 ┆ 2.0   │\n",
       "│ 2   ┆ 0.570044 ┆ 2022-12-03 00:00:00 ┆ NaN   │\n",
       "│ 3   ┆ 0.194183 ┆ 2022-12-04 00:00:00 ┆ NaN   │\n",
       "│ 4   ┆ 0.796046 ┆ 2022-12-05 00:00:00 ┆ 0.0   │\n",
       "│ 5   ┆ 0.851494 ┆ 2022-12-06 00:00:00 ┆ -5.0  │\n",
       "│ 6   ┆ 0.944507 ┆ 2022-12-07 00:00:00 ┆ -42.0 │\n",
       "│ 7   ┆ 0.597031 ┆ 2022-12-08 00:00:00 ┆ null  │\n",
       "└─────┴──────────┴─────────────────────┴───────┘"
      ]
     },
     "execution_count": 6,
     "metadata": {},
     "output_type": "execute_result"
    }
   ],
   "source": [
    "df1_pl = pl.DataFrame({\"a\": np.arange(0, 8), \n",
    "                   \"b\": np.random.rand(8), \n",
    "                   \"c\": [dt.datetime(2022, 12, 1) + dt.timedelta(days=idx) for idx in range(8)],\n",
    "                   \"d\": [1, 2.0, np.NaN, np.NaN, 0, -5, -42, None]\n",
    "                  })\n",
    "df1_pl"
   ]
  },
  {
   "cell_type": "markdown",
   "metadata": {},
   "source": [
    "Both the libraries can read or save data from csv or json file. \n",
    "\n",
    "Reading functions are similar for the two libraries,here we use csv file as an example:\n"
   ]
  },
  {
   "cell_type": "markdown",
   "metadata": {},
   "source": [
    "`Pandas` read csv file:\n"
   ]
  },
  {
   "cell_type": "code",
   "execution_count": 7,
   "metadata": {
    "tags": []
   },
   "outputs": [
    {
     "data": {
      "text/html": [
       "<div>\n",
       "<style scoped>\n",
       "    .dataframe tbody tr th:only-of-type {\n",
       "        vertical-align: middle;\n",
       "    }\n",
       "\n",
       "    .dataframe tbody tr th {\n",
       "        vertical-align: top;\n",
       "    }\n",
       "\n",
       "    .dataframe thead th {\n",
       "        text-align: right;\n",
       "    }\n",
       "</style>\n",
       "<table border=\"1\" class=\"dataframe\">\n",
       "  <thead>\n",
       "    <tr style=\"text-align: right;\">\n",
       "      <th></th>\n",
       "      <th>Unnamed: 0</th>\n",
       "      <th>a</th>\n",
       "      <th>b</th>\n",
       "      <th>c</th>\n",
       "      <th>d</th>\n",
       "    </tr>\n",
       "  </thead>\n",
       "  <tbody>\n",
       "    <tr>\n",
       "      <th>0</th>\n",
       "      <td>0</td>\n",
       "      <td>0</td>\n",
       "      <td>0.537063</td>\n",
       "      <td>2022-12-01</td>\n",
       "      <td>1.0</td>\n",
       "    </tr>\n",
       "    <tr>\n",
       "      <th>1</th>\n",
       "      <td>1</td>\n",
       "      <td>1</td>\n",
       "      <td>0.832873</td>\n",
       "      <td>2022-12-02</td>\n",
       "      <td>2.0</td>\n",
       "    </tr>\n",
       "    <tr>\n",
       "      <th>2</th>\n",
       "      <td>2</td>\n",
       "      <td>2</td>\n",
       "      <td>0.456073</td>\n",
       "      <td>2022-12-03</td>\n",
       "      <td>NaN</td>\n",
       "    </tr>\n",
       "    <tr>\n",
       "      <th>3</th>\n",
       "      <td>3</td>\n",
       "      <td>3</td>\n",
       "      <td>0.432039</td>\n",
       "      <td>2022-12-04</td>\n",
       "      <td>NaN</td>\n",
       "    </tr>\n",
       "    <tr>\n",
       "      <th>4</th>\n",
       "      <td>4</td>\n",
       "      <td>4</td>\n",
       "      <td>0.447414</td>\n",
       "      <td>2022-12-05</td>\n",
       "      <td>0.0</td>\n",
       "    </tr>\n",
       "    <tr>\n",
       "      <th>5</th>\n",
       "      <td>5</td>\n",
       "      <td>5</td>\n",
       "      <td>0.441257</td>\n",
       "      <td>2022-12-06</td>\n",
       "      <td>-5.0</td>\n",
       "    </tr>\n",
       "    <tr>\n",
       "      <th>6</th>\n",
       "      <td>6</td>\n",
       "      <td>6</td>\n",
       "      <td>0.275641</td>\n",
       "      <td>2022-12-07</td>\n",
       "      <td>-42.0</td>\n",
       "    </tr>\n",
       "    <tr>\n",
       "      <th>7</th>\n",
       "      <td>7</td>\n",
       "      <td>7</td>\n",
       "      <td>0.570122</td>\n",
       "      <td>2022-12-08</td>\n",
       "      <td>NaN</td>\n",
       "    </tr>\n",
       "  </tbody>\n",
       "</table>\n",
       "</div>"
      ],
      "text/plain": [
       "   Unnamed: 0  a         b           c     d\n",
       "0           0  0  0.537063  2022-12-01   1.0\n",
       "1           1  1  0.832873  2022-12-02   2.0\n",
       "2           2  2  0.456073  2022-12-03   NaN\n",
       "3           3  3  0.432039  2022-12-04   NaN\n",
       "4           4  4  0.447414  2022-12-05   0.0\n",
       "5           5  5  0.441257  2022-12-06  -5.0\n",
       "6           6  6  0.275641  2022-12-07 -42.0\n",
       "7           7  7  0.570122  2022-12-08   NaN"
      ]
     },
     "execution_count": 7,
     "metadata": {},
     "output_type": "execute_result"
    }
   ],
   "source": [
    "df1_csv_pd=pd.read_csv('https://cf-courses-data.s3.us.cloud-object-storage.appdomain.cloud/IBMSkillsNetwork-GPXX0BM6EN/dataframe1.csv')\n",
    "df1_csv_pd"
   ]
  },
  {
   "cell_type": "markdown",
   "metadata": {},
   "source": [
    "`Polars` read csv file:\n"
   ]
  },
  {
   "cell_type": "code",
   "execution_count": 11,
   "metadata": {
    "tags": []
   },
   "outputs": [
    {
     "data": {
      "text/html": [
       "<div><style>\n",
       ".dataframe > thead > tr > th,\n",
       ".dataframe > tbody > tr > td {\n",
       "  text-align: right;\n",
       "}\n",
       "</style>\n",
       "<small>shape: (8, 5)</small><table border=\"1\" class=\"dataframe\"><thead><tr><th></th><th>a</th><th>b</th><th>c</th><th>d</th></tr><tr><td>i64</td><td>i64</td><td>f64</td><td>str</td><td>f64</td></tr></thead><tbody><tr><td>0</td><td>0</td><td>0.537063</td><td>&quot;2022-12-01&quot;</td><td>1.0</td></tr><tr><td>1</td><td>1</td><td>0.832873</td><td>&quot;2022-12-02&quot;</td><td>2.0</td></tr><tr><td>2</td><td>2</td><td>0.456073</td><td>&quot;2022-12-03&quot;</td><td>null</td></tr><tr><td>3</td><td>3</td><td>0.432039</td><td>&quot;2022-12-04&quot;</td><td>null</td></tr><tr><td>4</td><td>4</td><td>0.447414</td><td>&quot;2022-12-05&quot;</td><td>0.0</td></tr><tr><td>5</td><td>5</td><td>0.441257</td><td>&quot;2022-12-06&quot;</td><td>-5.0</td></tr><tr><td>6</td><td>6</td><td>0.275641</td><td>&quot;2022-12-07&quot;</td><td>-42.0</td></tr><tr><td>7</td><td>7</td><td>0.570122</td><td>&quot;2022-12-08&quot;</td><td>null</td></tr></tbody></table></div>"
      ],
      "text/plain": [
       "shape: (8, 5)\n",
       "┌─────┬─────┬──────────┬────────────┬───────┐\n",
       "│     ┆ a   ┆ b        ┆ c          ┆ d     │\n",
       "│ --- ┆ --- ┆ ---      ┆ ---        ┆ ---   │\n",
       "│ i64 ┆ i64 ┆ f64      ┆ str        ┆ f64   │\n",
       "╞═════╪═════╪══════════╪════════════╪═══════╡\n",
       "│ 0   ┆ 0   ┆ 0.537063 ┆ 2022-12-01 ┆ 1.0   │\n",
       "│ 1   ┆ 1   ┆ 0.832873 ┆ 2022-12-02 ┆ 2.0   │\n",
       "│ 2   ┆ 2   ┆ 0.456073 ┆ 2022-12-03 ┆ null  │\n",
       "│ 3   ┆ 3   ┆ 0.432039 ┆ 2022-12-04 ┆ null  │\n",
       "│ 4   ┆ 4   ┆ 0.447414 ┆ 2022-12-05 ┆ 0.0   │\n",
       "│ 5   ┆ 5   ┆ 0.441257 ┆ 2022-12-06 ┆ -5.0  │\n",
       "│ 6   ┆ 6   ┆ 0.275641 ┆ 2022-12-07 ┆ -42.0 │\n",
       "│ 7   ┆ 7   ┆ 0.570122 ┆ 2022-12-08 ┆ null  │\n",
       "└─────┴─────┴──────────┴────────────┴───────┘"
      ]
     },
     "execution_count": 11,
     "metadata": {},
     "output_type": "execute_result"
    }
   ],
   "source": [
    "df1_csv_pl=pl.read_csv('https://cf-courses-data.s3.us.cloud-object-storage.appdomain.cloud/IBMSkillsNetwork-GPXX0BM6EN/dataframe1.csv')\n",
    "df1_csv_pl"
   ]
  },
  {
   "cell_type": "markdown",
   "metadata": {},
   "source": [
    "As we can see above, `Polars` made the datetimes a string. We can tell `Polars` to parse dates, when reading the csv, to ensure the date becomes a datetime.\n"
   ]
  },
  {
   "cell_type": "markdown",
   "metadata": {},
   "source": [
    "The save/write code for the two libraries are a bit different:\n",
    "\n",
    "For `Pandas` we use `to_XXX()`, but we use `write_XXX()` in `Polars`\n"
   ]
  },
  {
   "cell_type": "code",
   "execution_count": 12,
   "metadata": {
    "tags": []
   },
   "outputs": [],
   "source": [
    "df1_pd.to_csv('dataframe1_pd.csv')"
   ]
  },
  {
   "cell_type": "code",
   "execution_count": 13,
   "metadata": {
    "tags": []
   },
   "outputs": [],
   "source": [
    "df1_pl.write_csv('dataframe1_pl.csv')"
   ]
  },
  {
   "cell_type": "markdown",
   "metadata": {},
   "source": [
    "The **read and write/to** methods are also for the json file in the two libraries.\n"
   ]
  },
  {
   "cell_type": "markdown",
   "metadata": {},
   "source": [
    "### View data\n"
   ]
  },
  {
   "cell_type": "markdown",
   "metadata": {},
   "source": [
    "For viewing the DataFrame the two libraries has similar methods:\n",
    "\n",
    "1. The `.head()` method shows by default the first 5 rows of a DataFrame. You can specify the number of rows you want to see (e.g. df.head(10)).\n"
   ]
  },
  {
   "cell_type": "code",
   "execution_count": 14,
   "metadata": {
    "tags": []
   },
   "outputs": [
    {
     "data": {
      "text/html": [
       "<div><style>\n",
       ".dataframe > thead > tr > th,\n",
       ".dataframe > tbody > tr > td {\n",
       "  text-align: right;\n",
       "}\n",
       "</style>\n",
       "<small>shape: (5, 4)</small><table border=\"1\" class=\"dataframe\"><thead><tr><th>a</th><th>b</th><th>c</th><th>d</th></tr><tr><td>i64</td><td>f64</td><td>datetime[μs]</td><td>f64</td></tr></thead><tbody><tr><td>0</td><td>0.041047</td><td>2022-12-01 00:00:00</td><td>1.0</td></tr><tr><td>1</td><td>0.535464</td><td>2022-12-02 00:00:00</td><td>2.0</td></tr><tr><td>2</td><td>0.570044</td><td>2022-12-03 00:00:00</td><td>NaN</td></tr><tr><td>3</td><td>0.194183</td><td>2022-12-04 00:00:00</td><td>NaN</td></tr><tr><td>4</td><td>0.796046</td><td>2022-12-05 00:00:00</td><td>0.0</td></tr></tbody></table></div>"
      ],
      "text/plain": [
       "shape: (5, 4)\n",
       "┌─────┬──────────┬─────────────────────┬─────┐\n",
       "│ a   ┆ b        ┆ c                   ┆ d   │\n",
       "│ --- ┆ ---      ┆ ---                 ┆ --- │\n",
       "│ i64 ┆ f64      ┆ datetime[μs]        ┆ f64 │\n",
       "╞═════╪══════════╪═════════════════════╪═════╡\n",
       "│ 0   ┆ 0.041047 ┆ 2022-12-01 00:00:00 ┆ 1.0 │\n",
       "│ 1   ┆ 0.535464 ┆ 2022-12-02 00:00:00 ┆ 2.0 │\n",
       "│ 2   ┆ 0.570044 ┆ 2022-12-03 00:00:00 ┆ NaN │\n",
       "│ 3   ┆ 0.194183 ┆ 2022-12-04 00:00:00 ┆ NaN │\n",
       "│ 4   ┆ 0.796046 ┆ 2022-12-05 00:00:00 ┆ 0.0 │\n",
       "└─────┴──────────┴─────────────────────┴─────┘"
      ]
     },
     "execution_count": 14,
     "metadata": {},
     "output_type": "execute_result"
    }
   ],
   "source": [
    "# Remove # ahead when you want to run the code\n",
    "df1_pd.head()\n",
    "df1_pl.head()"
   ]
  },
  {
   "cell_type": "markdown",
   "metadata": {},
   "source": [
    "2. The `.tail()` method shows the last 5 rows of a DataFrame. You can also specify the number of rows you want to see, similar to head.\n"
   ]
  },
  {
   "cell_type": "code",
   "execution_count": 15,
   "metadata": {
    "tags": []
   },
   "outputs": [
    {
     "data": {
      "text/html": [
       "<div><style>\n",
       ".dataframe > thead > tr > th,\n",
       ".dataframe > tbody > tr > td {\n",
       "  text-align: right;\n",
       "}\n",
       "</style>\n",
       "<small>shape: (5, 4)</small><table border=\"1\" class=\"dataframe\"><thead><tr><th>a</th><th>b</th><th>c</th><th>d</th></tr><tr><td>i64</td><td>f64</td><td>datetime[μs]</td><td>f64</td></tr></thead><tbody><tr><td>3</td><td>0.194183</td><td>2022-12-04 00:00:00</td><td>NaN</td></tr><tr><td>4</td><td>0.796046</td><td>2022-12-05 00:00:00</td><td>0.0</td></tr><tr><td>5</td><td>0.851494</td><td>2022-12-06 00:00:00</td><td>-5.0</td></tr><tr><td>6</td><td>0.944507</td><td>2022-12-07 00:00:00</td><td>-42.0</td></tr><tr><td>7</td><td>0.597031</td><td>2022-12-08 00:00:00</td><td>null</td></tr></tbody></table></div>"
      ],
      "text/plain": [
       "shape: (5, 4)\n",
       "┌─────┬──────────┬─────────────────────┬───────┐\n",
       "│ a   ┆ b        ┆ c                   ┆ d     │\n",
       "│ --- ┆ ---      ┆ ---                 ┆ ---   │\n",
       "│ i64 ┆ f64      ┆ datetime[μs]        ┆ f64   │\n",
       "╞═════╪══════════╪═════════════════════╪═══════╡\n",
       "│ 3   ┆ 0.194183 ┆ 2022-12-04 00:00:00 ┆ NaN   │\n",
       "│ 4   ┆ 0.796046 ┆ 2022-12-05 00:00:00 ┆ 0.0   │\n",
       "│ 5   ┆ 0.851494 ┆ 2022-12-06 00:00:00 ┆ -5.0  │\n",
       "│ 6   ┆ 0.944507 ┆ 2022-12-07 00:00:00 ┆ -42.0 │\n",
       "│ 7   ┆ 0.597031 ┆ 2022-12-08 00:00:00 ┆ null  │\n",
       "└─────┴──────────┴─────────────────────┴───────┘"
      ]
     },
     "execution_count": 15,
     "metadata": {},
     "output_type": "execute_result"
    }
   ],
   "source": [
    "# Remove # ahead when you want to run the code\n",
    "df1_pd.tail()\n",
    "df1_pl.tail()"
   ]
  },
  {
   "cell_type": "markdown",
   "metadata": {},
   "source": [
    "3. If you want to get an impression of the data of your DataFrame, you can also use `.sample()` method. With sample you get an n number of random rows from the DataFrame.\n"
   ]
  },
  {
   "cell_type": "code",
   "execution_count": 16,
   "metadata": {
    "tags": []
   },
   "outputs": [
    {
     "data": {
      "text/html": [
       "<div><style>\n",
       ".dataframe > thead > tr > th,\n",
       ".dataframe > tbody > tr > td {\n",
       "  text-align: right;\n",
       "}\n",
       "</style>\n",
       "<small>shape: (2, 4)</small><table border=\"1\" class=\"dataframe\"><thead><tr><th>a</th><th>b</th><th>c</th><th>d</th></tr><tr><td>i64</td><td>f64</td><td>datetime[μs]</td><td>f64</td></tr></thead><tbody><tr><td>5</td><td>0.851494</td><td>2022-12-06 00:00:00</td><td>-5.0</td></tr><tr><td>6</td><td>0.944507</td><td>2022-12-07 00:00:00</td><td>-42.0</td></tr></tbody></table></div>"
      ],
      "text/plain": [
       "shape: (2, 4)\n",
       "┌─────┬──────────┬─────────────────────┬───────┐\n",
       "│ a   ┆ b        ┆ c                   ┆ d     │\n",
       "│ --- ┆ ---      ┆ ---                 ┆ ---   │\n",
       "│ i64 ┆ f64      ┆ datetime[μs]        ┆ f64   │\n",
       "╞═════╪══════════╪═════════════════════╪═══════╡\n",
       "│ 5   ┆ 0.851494 ┆ 2022-12-06 00:00:00 ┆ -5.0  │\n",
       "│ 6   ┆ 0.944507 ┆ 2022-12-07 00:00:00 ┆ -42.0 │\n",
       "└─────┴──────────┴─────────────────────┴───────┘"
      ]
     },
     "execution_count": 16,
     "metadata": {},
     "output_type": "execute_result"
    }
   ],
   "source": [
    "# Remove # ahead when you want to run the code\n",
    "df1_pd.sample(n=2)\n",
    "df1_pl.sample(n=2)"
   ]
  },
  {
   "cell_type": "markdown",
   "metadata": {},
   "source": [
    "4. `.describe()` method returns summary statistics of your DataFrame. It will provide several quick statistics if possible.\n"
   ]
  },
  {
   "cell_type": "code",
   "execution_count": 17,
   "metadata": {
    "tags": []
   },
   "outputs": [
    {
     "data": {
      "text/html": [
       "<div><style>\n",
       ".dataframe > thead > tr > th,\n",
       ".dataframe > tbody > tr > td {\n",
       "  text-align: right;\n",
       "}\n",
       "</style>\n",
       "<small>shape: (9, 5)</small><table border=\"1\" class=\"dataframe\"><thead><tr><th>describe</th><th>a</th><th>b</th><th>c</th><th>d</th></tr><tr><td>str</td><td>f64</td><td>f64</td><td>str</td><td>f64</td></tr></thead><tbody><tr><td>&quot;count&quot;</td><td>8.0</td><td>8.0</td><td>&quot;8&quot;</td><td>8.0</td></tr><tr><td>&quot;null_count&quot;</td><td>0.0</td><td>0.0</td><td>&quot;0&quot;</td><td>1.0</td></tr><tr><td>&quot;mean&quot;</td><td>3.5</td><td>0.566227</td><td>null</td><td>NaN</td></tr><tr><td>&quot;std&quot;</td><td>2.44949</td><td>0.31474</td><td>null</td><td>NaN</td></tr><tr><td>&quot;min&quot;</td><td>0.0</td><td>0.041047</td><td>&quot;2022-12-01 00:…</td><td>-42.0</td></tr><tr><td>&quot;max&quot;</td><td>7.0</td><td>0.944507</td><td>&quot;2022-12-08 00:…</td><td>2.0</td></tr><tr><td>&quot;median&quot;</td><td>3.5</td><td>0.583538</td><td>null</td><td>1.0</td></tr><tr><td>&quot;25%&quot;</td><td>2.0</td><td>0.535464</td><td>null</td><td>-5.0</td></tr><tr><td>&quot;75%&quot;</td><td>6.0</td><td>0.851494</td><td>null</td><td>NaN</td></tr></tbody></table></div>"
      ],
      "text/plain": [
       "shape: (9, 5)\n",
       "┌────────────┬─────────┬──────────┬─────────────────────┬───────┐\n",
       "│ describe   ┆ a       ┆ b        ┆ c                   ┆ d     │\n",
       "│ ---        ┆ ---     ┆ ---      ┆ ---                 ┆ ---   │\n",
       "│ str        ┆ f64     ┆ f64      ┆ str                 ┆ f64   │\n",
       "╞════════════╪═════════╪══════════╪═════════════════════╪═══════╡\n",
       "│ count      ┆ 8.0     ┆ 8.0      ┆ 8                   ┆ 8.0   │\n",
       "│ null_count ┆ 0.0     ┆ 0.0      ┆ 0                   ┆ 1.0   │\n",
       "│ mean       ┆ 3.5     ┆ 0.566227 ┆ null                ┆ NaN   │\n",
       "│ std        ┆ 2.44949 ┆ 0.31474  ┆ null                ┆ NaN   │\n",
       "│ min        ┆ 0.0     ┆ 0.041047 ┆ 2022-12-01 00:00:00 ┆ -42.0 │\n",
       "│ max        ┆ 7.0     ┆ 0.944507 ┆ 2022-12-08 00:00:00 ┆ 2.0   │\n",
       "│ median     ┆ 3.5     ┆ 0.583538 ┆ null                ┆ 1.0   │\n",
       "│ 25%        ┆ 2.0     ┆ 0.535464 ┆ null                ┆ -5.0  │\n",
       "│ 75%        ┆ 6.0     ┆ 0.851494 ┆ null                ┆ NaN   │\n",
       "└────────────┴─────────┴──────────┴─────────────────────┴───────┘"
      ]
     },
     "execution_count": 17,
     "metadata": {},
     "output_type": "execute_result"
    }
   ],
   "source": [
    "# Remove # ahead when you want to run the code\n",
    "df1_pd.describe()\n",
    "df1_pl.describe()"
   ]
  },
  {
   "cell_type": "markdown",
   "metadata": {},
   "source": [
    "### Expression methods\n"
   ]
  },
  {
   "cell_type": "markdown",
   "metadata": {},
   "source": [
    "#### 1. `join` & `Concat`\n",
    "    \n",
    "`.join()` and `.concat()` methods in `Pandas` and `Polars` allow you to combine DataFrames (tables) horizontally or vertically.\n",
    "\n",
    "`,join()` method combines two DataFrames based on a shared index or a common column.\n",
    "\n",
    "`.concat()` method concatenates DataFrames either row-wise (vertically) or column-wise (horizontally). The axis argument allows you to specify the direction of the concatenation.\n",
    "\n",
    "The `.join()` and `.concat()` are similar in `Pandas` and `Polars`.\n",
    "\n",
    "First, we create the DataFrames used in the `.concat()` demo:\n"
   ]
  },
  {
   "cell_type": "code",
   "execution_count": 18,
   "metadata": {
    "tags": []
   },
   "outputs": [],
   "source": [
    "# Pandas: \n",
    "df2_pd = pd.DataFrame(\n",
    "    {\n",
    "        \"a\": [1],\n",
    "        \"b\": [3],\n",
    "    }\n",
    ")\n",
    "df3_pd = pd.DataFrame(\n",
    "    {\n",
    "        \"a\": [2],\n",
    "        \"d\": [4],\n",
    "    }\n",
    ")\n",
    "df3_pd.index += 1\n",
    "\n",
    "# Polars: \n",
    "df2_pl = pl.DataFrame(\n",
    "    {\n",
    "        \"a\": [1],\n",
    "        \"b\": [3],\n",
    "    }\n",
    ")\n",
    "df3_pl = pl.DataFrame(\n",
    "    {\n",
    "        \"a\": [2],\n",
    "        \"d\": [4],\n",
    "    }\n",
    ")"
   ]
  },
  {
   "cell_type": "markdown",
   "metadata": {},
   "source": [
    "`Pandas` `.concat()`:\n"
   ]
  },
  {
   "cell_type": "code",
   "execution_count": 19,
   "metadata": {
    "tags": []
   },
   "outputs": [
    {
     "data": {
      "text/html": [
       "<div>\n",
       "<style scoped>\n",
       "    .dataframe tbody tr th:only-of-type {\n",
       "        vertical-align: middle;\n",
       "    }\n",
       "\n",
       "    .dataframe tbody tr th {\n",
       "        vertical-align: top;\n",
       "    }\n",
       "\n",
       "    .dataframe thead th {\n",
       "        text-align: right;\n",
       "    }\n",
       "</style>\n",
       "<table border=\"1\" class=\"dataframe\">\n",
       "  <thead>\n",
       "    <tr style=\"text-align: right;\">\n",
       "      <th></th>\n",
       "      <th>a</th>\n",
       "      <th>b</th>\n",
       "      <th>d</th>\n",
       "    </tr>\n",
       "  </thead>\n",
       "  <tbody>\n",
       "    <tr>\n",
       "      <th>0</th>\n",
       "      <td>1</td>\n",
       "      <td>3.0</td>\n",
       "      <td>NaN</td>\n",
       "    </tr>\n",
       "    <tr>\n",
       "      <th>1</th>\n",
       "      <td>2</td>\n",
       "      <td>NaN</td>\n",
       "      <td>4.0</td>\n",
       "    </tr>\n",
       "  </tbody>\n",
       "</table>\n",
       "</div>"
      ],
      "text/plain": [
       "   a    b    d\n",
       "0  1  3.0  NaN\n",
       "1  2  NaN  4.0"
      ]
     },
     "execution_count": 19,
     "metadata": {},
     "output_type": "execute_result"
    }
   ],
   "source": [
    "df4_pd = pd.concat(\n",
    "    [\n",
    "        df2_pd,\n",
    "        df3_pd,\n",
    "    ],\n",
    ")\n",
    "df4_pd"
   ]
  },
  {
   "cell_type": "markdown",
   "metadata": {},
   "source": [
    "`Polars` `.concat()`: (need the how input to state how the Dataframe concat)\n"
   ]
  },
  {
   "cell_type": "code",
   "execution_count": 20,
   "metadata": {
    "tags": []
   },
   "outputs": [
    {
     "data": {
      "text/html": [
       "<div><style>\n",
       ".dataframe > thead > tr > th,\n",
       ".dataframe > tbody > tr > td {\n",
       "  text-align: right;\n",
       "}\n",
       "</style>\n",
       "<small>shape: (2, 3)</small><table border=\"1\" class=\"dataframe\"><thead><tr><th>a</th><th>b</th><th>d</th></tr><tr><td>i64</td><td>i64</td><td>i64</td></tr></thead><tbody><tr><td>1</td><td>3</td><td>null</td></tr><tr><td>2</td><td>null</td><td>4</td></tr></tbody></table></div>"
      ],
      "text/plain": [
       "shape: (2, 3)\n",
       "┌─────┬──────┬──────┐\n",
       "│ a   ┆ b    ┆ d    │\n",
       "│ --- ┆ ---  ┆ ---  │\n",
       "│ i64 ┆ i64  ┆ i64  │\n",
       "╞═════╪══════╪══════╡\n",
       "│ 1   ┆ 3    ┆ null │\n",
       "│ 2   ┆ null ┆ 4    │\n",
       "└─────┴──────┴──────┘"
      ]
     },
     "execution_count": 20,
     "metadata": {},
     "output_type": "execute_result"
    }
   ],
   "source": [
    "df4_pl = pl.concat(\n",
    "    [\n",
    "        df2_pl,\n",
    "        df3_pl,\n",
    "    ],\n",
    "    how=\"diagonal\",\n",
    ")\n",
    "df4_pl"
   ]
  },
  {
   "cell_type": "markdown",
   "metadata": {},
   "source": [
    "Second,we create the DataFrames used in the `.join()` demo:\n"
   ]
  },
  {
   "cell_type": "code",
   "execution_count": 21,
   "metadata": {
    "tags": []
   },
   "outputs": [],
   "source": [
    "# Pandas: \n",
    "df5_pd = pd.DataFrame(\n",
    "    {\n",
    "        \"a\": [1],\n",
    "        \"b\": [3],\n",
    "    }\n",
    ")\n",
    "df6_pd = pd.DataFrame(\n",
    "    {\n",
    "        \"a\": [1],\n",
    "        \"d\": [4],\n",
    "    }\n",
    ")\n",
    "\n",
    "# Polars: \n",
    "df5_pl = pl.DataFrame(\n",
    "    {\n",
    "        \"a\": [1],\n",
    "        \"b\": [3],\n",
    "    }\n",
    ")\n",
    "df6_pl = pl.DataFrame(\n",
    "    {\n",
    "        \"a\": [1],\n",
    "        \"d\": [4],\n",
    "    }\n",
    ")"
   ]
  },
  {
   "cell_type": "markdown",
   "metadata": {},
   "source": [
    "<img src=\"https://cf-courses-data.s3.us.cloud-object-storage.appdomain.cloud/IBMSkillsNetwork-GPXX0BM6EN/images/2.jpeg\" width=\"40%\">\n"
   ]
  },
  {
   "cell_type": "markdown",
   "metadata": {},
   "source": [
    "`Pandas` `.join()`: (The `.join()` method in `Pandas` is using the index of the passed as argument dataset, so you should use set_index)\n"
   ]
  },
  {
   "cell_type": "code",
   "execution_count": 22,
   "metadata": {
    "tags": []
   },
   "outputs": [
    {
     "data": {
      "text/html": [
       "<div>\n",
       "<style scoped>\n",
       "    .dataframe tbody tr th:only-of-type {\n",
       "        vertical-align: middle;\n",
       "    }\n",
       "\n",
       "    .dataframe tbody tr th {\n",
       "        vertical-align: top;\n",
       "    }\n",
       "\n",
       "    .dataframe thead th {\n",
       "        text-align: right;\n",
       "    }\n",
       "</style>\n",
       "<table border=\"1\" class=\"dataframe\">\n",
       "  <thead>\n",
       "    <tr style=\"text-align: right;\">\n",
       "      <th></th>\n",
       "      <th>a</th>\n",
       "      <th>b</th>\n",
       "      <th>d</th>\n",
       "    </tr>\n",
       "  </thead>\n",
       "  <tbody>\n",
       "    <tr>\n",
       "      <th>0</th>\n",
       "      <td>1</td>\n",
       "      <td>3</td>\n",
       "      <td>4</td>\n",
       "    </tr>\n",
       "  </tbody>\n",
       "</table>\n",
       "</div>"
      ],
      "text/plain": [
       "   a  b  d\n",
       "0  1  3  4"
      ]
     },
     "execution_count": 22,
     "metadata": {},
     "output_type": "execute_result"
    }
   ],
   "source": [
    "df7_pd = df5_pd.join(df6_pd.set_index('a'),on='a',how='inner')\n",
    "df7_pd"
   ]
  },
  {
   "cell_type": "markdown",
   "metadata": {},
   "source": [
    "`Polars` `.join()`:\n"
   ]
  },
  {
   "cell_type": "code",
   "execution_count": 23,
   "metadata": {
    "tags": []
   },
   "outputs": [
    {
     "data": {
      "text/html": [
       "<div><style>\n",
       ".dataframe > thead > tr > th,\n",
       ".dataframe > tbody > tr > td {\n",
       "  text-align: right;\n",
       "}\n",
       "</style>\n",
       "<small>shape: (1, 3)</small><table border=\"1\" class=\"dataframe\"><thead><tr><th>a</th><th>b</th><th>d</th></tr><tr><td>i64</td><td>i64</td><td>i64</td></tr></thead><tbody><tr><td>1</td><td>3</td><td>4</td></tr></tbody></table></div>"
      ],
      "text/plain": [
       "shape: (1, 3)\n",
       "┌─────┬─────┬─────┐\n",
       "│ a   ┆ b   ┆ d   │\n",
       "│ --- ┆ --- ┆ --- │\n",
       "│ i64 ┆ i64 ┆ i64 │\n",
       "╞═════╪═════╪═════╡\n",
       "│ 1   ┆ 3   ┆ 4   │\n",
       "└─────┴─────┴─────┘"
      ]
     },
     "execution_count": 23,
     "metadata": {},
     "output_type": "execute_result"
    }
   ],
   "source": [
    "df7_pl = df5_pl.join(df6_pl,on='a',how='inner')\n",
    "df7_pl"
   ]
  },
  {
   "cell_type": "markdown",
   "metadata": {},
   "source": [
    "#### 2. Select & Filter\n",
    "\n",
    "`Pandas` gives a label to each row with an index. `Polars` does not use an index and each row is indexed by its integer position in the table. \n",
    "\n",
    "As there is no index in `Polars` there are no `.loc` or `iloc` methods in `Polars`, which are well-known in `Pandas`. \n",
    "\n",
    "For example, if you want to select a column in `Pandas` you can do one of the following:\n"
   ]
  },
  {
   "cell_type": "code",
   "execution_count": 24,
   "metadata": {
    "tags": []
   },
   "outputs": [
    {
     "data": {
      "text/plain": [
       "0    0\n",
       "1    1\n",
       "2    2\n",
       "3    3\n",
       "4    4\n",
       "5    5\n",
       "6    6\n",
       "7    7\n",
       "Name: a, dtype: int64"
      ]
     },
     "execution_count": 24,
     "metadata": {},
     "output_type": "execute_result"
    }
   ],
   "source": [
    "df1_pd['a']\n",
    "df1_pd.loc[:,'a']"
   ]
  },
  {
   "cell_type": "markdown",
   "metadata": {},
   "source": [
    "but in `Polars` you would use the `.select()` method:\n"
   ]
  },
  {
   "cell_type": "code",
   "execution_count": 25,
   "metadata": {
    "tags": []
   },
   "outputs": [
    {
     "data": {
      "text/html": [
       "<div><style>\n",
       ".dataframe > thead > tr > th,\n",
       ".dataframe > tbody > tr > td {\n",
       "  text-align: right;\n",
       "}\n",
       "</style>\n",
       "<small>shape: (8, 1)</small><table border=\"1\" class=\"dataframe\"><thead><tr><th>a</th></tr><tr><td>i64</td></tr></thead><tbody><tr><td>0</td></tr><tr><td>1</td></tr><tr><td>2</td></tr><tr><td>3</td></tr><tr><td>4</td></tr><tr><td>5</td></tr><tr><td>6</td></tr><tr><td>7</td></tr></tbody></table></div>"
      ],
      "text/plain": [
       "shape: (8, 1)\n",
       "┌─────┐\n",
       "│ a   │\n",
       "│ --- │\n",
       "│ i64 │\n",
       "╞═════╡\n",
       "│ 0   │\n",
       "│ 1   │\n",
       "│ 2   │\n",
       "│ 3   │\n",
       "│ 4   │\n",
       "│ 5   │\n",
       "│ 6   │\n",
       "│ 7   │\n",
       "└─────┘"
      ]
     },
     "execution_count": 25,
     "metadata": {},
     "output_type": "execute_result"
    }
   ],
   "source": [
    "df1_pl.select(['a'])"
   ]
  },
  {
   "cell_type": "markdown",
   "metadata": {},
   "source": [
    "If you want to select rows based on the values in `Pandas`, you can still us `.loc` method:\n"
   ]
  },
  {
   "cell_type": "code",
   "execution_count": 26,
   "metadata": {
    "tags": []
   },
   "outputs": [
    {
     "data": {
      "text/html": [
       "<div>\n",
       "<style scoped>\n",
       "    .dataframe tbody tr th:only-of-type {\n",
       "        vertical-align: middle;\n",
       "    }\n",
       "\n",
       "    .dataframe tbody tr th {\n",
       "        vertical-align: top;\n",
       "    }\n",
       "\n",
       "    .dataframe thead th {\n",
       "        text-align: right;\n",
       "    }\n",
       "</style>\n",
       "<table border=\"1\" class=\"dataframe\">\n",
       "  <thead>\n",
       "    <tr style=\"text-align: right;\">\n",
       "      <th></th>\n",
       "      <th>a</th>\n",
       "      <th>b</th>\n",
       "      <th>c</th>\n",
       "      <th>d</th>\n",
       "    </tr>\n",
       "  </thead>\n",
       "  <tbody>\n",
       "    <tr>\n",
       "      <th>0</th>\n",
       "      <td>0</td>\n",
       "      <td>0.768769</td>\n",
       "      <td>2022-12-01</td>\n",
       "      <td>1.0</td>\n",
       "    </tr>\n",
       "    <tr>\n",
       "      <th>1</th>\n",
       "      <td>1</td>\n",
       "      <td>0.884476</td>\n",
       "      <td>2022-12-02</td>\n",
       "      <td>2.0</td>\n",
       "    </tr>\n",
       "    <tr>\n",
       "      <th>2</th>\n",
       "      <td>2</td>\n",
       "      <td>0.299420</td>\n",
       "      <td>2022-12-03</td>\n",
       "      <td>NaN</td>\n",
       "    </tr>\n",
       "    <tr>\n",
       "      <th>3</th>\n",
       "      <td>3</td>\n",
       "      <td>0.759372</td>\n",
       "      <td>2022-12-04</td>\n",
       "      <td>NaN</td>\n",
       "    </tr>\n",
       "    <tr>\n",
       "      <th>4</th>\n",
       "      <td>4</td>\n",
       "      <td>0.019084</td>\n",
       "      <td>2022-12-05</td>\n",
       "      <td>0.0</td>\n",
       "    </tr>\n",
       "  </tbody>\n",
       "</table>\n",
       "</div>"
      ],
      "text/plain": [
       "   a         b          c    d\n",
       "0  0  0.768769 2022-12-01  1.0\n",
       "1  1  0.884476 2022-12-02  2.0\n",
       "2  2  0.299420 2022-12-03  NaN\n",
       "3  3  0.759372 2022-12-04  NaN\n",
       "4  4  0.019084 2022-12-05  0.0"
      ]
     },
     "execution_count": 26,
     "metadata": {},
     "output_type": "execute_result"
    }
   ],
   "source": [
    "df1_pd.loc[df1_pd['a'] < 5]"
   ]
  },
  {
   "cell_type": "markdown",
   "metadata": {},
   "source": [
    "or use `.query()` method:\n"
   ]
  },
  {
   "cell_type": "code",
   "execution_count": 27,
   "metadata": {
    "tags": []
   },
   "outputs": [
    {
     "data": {
      "text/html": [
       "<div>\n",
       "<style scoped>\n",
       "    .dataframe tbody tr th:only-of-type {\n",
       "        vertical-align: middle;\n",
       "    }\n",
       "\n",
       "    .dataframe tbody tr th {\n",
       "        vertical-align: top;\n",
       "    }\n",
       "\n",
       "    .dataframe thead th {\n",
       "        text-align: right;\n",
       "    }\n",
       "</style>\n",
       "<table border=\"1\" class=\"dataframe\">\n",
       "  <thead>\n",
       "    <tr style=\"text-align: right;\">\n",
       "      <th></th>\n",
       "      <th>a</th>\n",
       "      <th>b</th>\n",
       "      <th>c</th>\n",
       "      <th>d</th>\n",
       "    </tr>\n",
       "  </thead>\n",
       "  <tbody>\n",
       "    <tr>\n",
       "      <th>0</th>\n",
       "      <td>0</td>\n",
       "      <td>0.768769</td>\n",
       "      <td>2022-12-01</td>\n",
       "      <td>1.0</td>\n",
       "    </tr>\n",
       "    <tr>\n",
       "      <th>1</th>\n",
       "      <td>1</td>\n",
       "      <td>0.884476</td>\n",
       "      <td>2022-12-02</td>\n",
       "      <td>2.0</td>\n",
       "    </tr>\n",
       "    <tr>\n",
       "      <th>2</th>\n",
       "      <td>2</td>\n",
       "      <td>0.299420</td>\n",
       "      <td>2022-12-03</td>\n",
       "      <td>NaN</td>\n",
       "    </tr>\n",
       "    <tr>\n",
       "      <th>3</th>\n",
       "      <td>3</td>\n",
       "      <td>0.759372</td>\n",
       "      <td>2022-12-04</td>\n",
       "      <td>NaN</td>\n",
       "    </tr>\n",
       "    <tr>\n",
       "      <th>4</th>\n",
       "      <td>4</td>\n",
       "      <td>0.019084</td>\n",
       "      <td>2022-12-05</td>\n",
       "      <td>0.0</td>\n",
       "    </tr>\n",
       "  </tbody>\n",
       "</table>\n",
       "</div>"
      ],
      "text/plain": [
       "   a         b          c    d\n",
       "0  0  0.768769 2022-12-01  1.0\n",
       "1  1  0.884476 2022-12-02  2.0\n",
       "2  2  0.299420 2022-12-03  NaN\n",
       "3  3  0.759372 2022-12-04  NaN\n",
       "4  4  0.019084 2022-12-05  0.0"
      ]
     },
     "execution_count": 27,
     "metadata": {},
     "output_type": "execute_result"
    }
   ],
   "source": [
    "df1_pd.query('a < 5')"
   ]
  },
  {
   "cell_type": "markdown",
   "metadata": {},
   "source": [
    "in `Polars` you use the `.filter()` method:\n"
   ]
  },
  {
   "cell_type": "code",
   "execution_count": 28,
   "metadata": {
    "tags": []
   },
   "outputs": [
    {
     "data": {
      "text/html": [
       "<div><style>\n",
       ".dataframe > thead > tr > th,\n",
       ".dataframe > tbody > tr > td {\n",
       "  text-align: right;\n",
       "}\n",
       "</style>\n",
       "<small>shape: (5, 4)</small><table border=\"1\" class=\"dataframe\"><thead><tr><th>a</th><th>b</th><th>c</th><th>d</th></tr><tr><td>i64</td><td>f64</td><td>datetime[μs]</td><td>f64</td></tr></thead><tbody><tr><td>0</td><td>0.041047</td><td>2022-12-01 00:00:00</td><td>1.0</td></tr><tr><td>1</td><td>0.535464</td><td>2022-12-02 00:00:00</td><td>2.0</td></tr><tr><td>2</td><td>0.570044</td><td>2022-12-03 00:00:00</td><td>NaN</td></tr><tr><td>3</td><td>0.194183</td><td>2022-12-04 00:00:00</td><td>NaN</td></tr><tr><td>4</td><td>0.796046</td><td>2022-12-05 00:00:00</td><td>0.0</td></tr></tbody></table></div>"
      ],
      "text/plain": [
       "shape: (5, 4)\n",
       "┌─────┬──────────┬─────────────────────┬─────┐\n",
       "│ a   ┆ b        ┆ c                   ┆ d   │\n",
       "│ --- ┆ ---      ┆ ---                 ┆ --- │\n",
       "│ i64 ┆ f64      ┆ datetime[μs]        ┆ f64 │\n",
       "╞═════╪══════════╪═════════════════════╪═════╡\n",
       "│ 0   ┆ 0.041047 ┆ 2022-12-01 00:00:00 ┆ 1.0 │\n",
       "│ 1   ┆ 0.535464 ┆ 2022-12-02 00:00:00 ┆ 2.0 │\n",
       "│ 2   ┆ 0.570044 ┆ 2022-12-03 00:00:00 ┆ NaN │\n",
       "│ 3   ┆ 0.194183 ┆ 2022-12-04 00:00:00 ┆ NaN │\n",
       "│ 4   ┆ 0.796046 ┆ 2022-12-05 00:00:00 ┆ 0.0 │\n",
       "└─────┴──────────┴─────────────────────┴─────┘"
      ]
     },
     "execution_count": 28,
     "metadata": {},
     "output_type": "execute_result"
    }
   ],
   "source": [
    "df1_pl.filter(pl.col('a') < 5)"
   ]
  },
  {
   "cell_type": "markdown",
   "metadata": {},
   "source": [
    "#### 3. Column assignment & calculation\n",
    "\n",
    "If we want to re-assign the values in column **a** based on a condition. When the value in column **d** is equal to 2 then we replace the value in **a** with the value in **b**.\n",
    "\n",
    "In `Pandas` this would be:\n"
   ]
  },
  {
   "cell_type": "code",
   "execution_count": 29,
   "metadata": {
    "tags": []
   },
   "outputs": [
    {
     "data": {
      "text/html": [
       "<div>\n",
       "<style scoped>\n",
       "    .dataframe tbody tr th:only-of-type {\n",
       "        vertical-align: middle;\n",
       "    }\n",
       "\n",
       "    .dataframe tbody tr th {\n",
       "        vertical-align: top;\n",
       "    }\n",
       "\n",
       "    .dataframe thead th {\n",
       "        text-align: right;\n",
       "    }\n",
       "</style>\n",
       "<table border=\"1\" class=\"dataframe\">\n",
       "  <thead>\n",
       "    <tr style=\"text-align: right;\">\n",
       "      <th></th>\n",
       "      <th>a</th>\n",
       "      <th>b</th>\n",
       "      <th>c</th>\n",
       "      <th>d</th>\n",
       "    </tr>\n",
       "  </thead>\n",
       "  <tbody>\n",
       "    <tr>\n",
       "      <th>0</th>\n",
       "      <td>0.000000</td>\n",
       "      <td>0.768769</td>\n",
       "      <td>2022-12-01</td>\n",
       "      <td>1.0</td>\n",
       "    </tr>\n",
       "    <tr>\n",
       "      <th>1</th>\n",
       "      <td>0.884476</td>\n",
       "      <td>0.884476</td>\n",
       "      <td>2022-12-02</td>\n",
       "      <td>2.0</td>\n",
       "    </tr>\n",
       "    <tr>\n",
       "      <th>2</th>\n",
       "      <td>2.000000</td>\n",
       "      <td>0.299420</td>\n",
       "      <td>2022-12-03</td>\n",
       "      <td>NaN</td>\n",
       "    </tr>\n",
       "    <tr>\n",
       "      <th>3</th>\n",
       "      <td>3.000000</td>\n",
       "      <td>0.759372</td>\n",
       "      <td>2022-12-04</td>\n",
       "      <td>NaN</td>\n",
       "    </tr>\n",
       "    <tr>\n",
       "      <th>4</th>\n",
       "      <td>4.000000</td>\n",
       "      <td>0.019084</td>\n",
       "      <td>2022-12-05</td>\n",
       "      <td>0.0</td>\n",
       "    </tr>\n",
       "    <tr>\n",
       "      <th>5</th>\n",
       "      <td>5.000000</td>\n",
       "      <td>0.474684</td>\n",
       "      <td>2022-12-06</td>\n",
       "      <td>-5.0</td>\n",
       "    </tr>\n",
       "    <tr>\n",
       "      <th>6</th>\n",
       "      <td>6.000000</td>\n",
       "      <td>0.409743</td>\n",
       "      <td>2022-12-07</td>\n",
       "      <td>-42.0</td>\n",
       "    </tr>\n",
       "    <tr>\n",
       "      <th>7</th>\n",
       "      <td>7.000000</td>\n",
       "      <td>0.290348</td>\n",
       "      <td>2022-12-08</td>\n",
       "      <td>NaN</td>\n",
       "    </tr>\n",
       "  </tbody>\n",
       "</table>\n",
       "</div>"
      ],
      "text/plain": [
       "          a         b          c     d\n",
       "0  0.000000  0.768769 2022-12-01   1.0\n",
       "1  0.884476  0.884476 2022-12-02   2.0\n",
       "2  2.000000  0.299420 2022-12-03   NaN\n",
       "3  3.000000  0.759372 2022-12-04   NaN\n",
       "4  4.000000  0.019084 2022-12-05   0.0\n",
       "5  5.000000  0.474684 2022-12-06  -5.0\n",
       "6  6.000000  0.409743 2022-12-07 -42.0\n",
       "7  7.000000  0.290348 2022-12-08   NaN"
      ]
     },
     "execution_count": 29,
     "metadata": {},
     "output_type": "execute_result"
    }
   ],
   "source": [
    "df1_pd.loc[df1_pd[\"d\"] == 2, \"a\"] = df1_pd.loc[df1_pd[\"d\"] == 2, \"b\"]\n",
    "df1_pd"
   ]
  },
  {
   "cell_type": "markdown",
   "metadata": {},
   "source": [
    "while in `Polars` this would be:\n"
   ]
  },
  {
   "cell_type": "code",
   "execution_count": 30,
   "metadata": {
    "tags": []
   },
   "outputs": [
    {
     "data": {
      "text/html": [
       "<div><style>\n",
       ".dataframe > thead > tr > th,\n",
       ".dataframe > tbody > tr > td {\n",
       "  text-align: right;\n",
       "}\n",
       "</style>\n",
       "<small>shape: (8, 4)</small><table border=\"1\" class=\"dataframe\"><thead><tr><th>a</th><th>b</th><th>c</th><th>d</th></tr><tr><td>f64</td><td>f64</td><td>datetime[μs]</td><td>f64</td></tr></thead><tbody><tr><td>0.0</td><td>0.041047</td><td>2022-12-01 00:00:00</td><td>1.0</td></tr><tr><td>0.535464</td><td>0.535464</td><td>2022-12-02 00:00:00</td><td>2.0</td></tr><tr><td>2.0</td><td>0.570044</td><td>2022-12-03 00:00:00</td><td>NaN</td></tr><tr><td>3.0</td><td>0.194183</td><td>2022-12-04 00:00:00</td><td>NaN</td></tr><tr><td>4.0</td><td>0.796046</td><td>2022-12-05 00:00:00</td><td>0.0</td></tr><tr><td>5.0</td><td>0.851494</td><td>2022-12-06 00:00:00</td><td>-5.0</td></tr><tr><td>6.0</td><td>0.944507</td><td>2022-12-07 00:00:00</td><td>-42.0</td></tr><tr><td>7.0</td><td>0.597031</td><td>2022-12-08 00:00:00</td><td>null</td></tr></tbody></table></div>"
      ],
      "text/plain": [
       "shape: (8, 4)\n",
       "┌──────────┬──────────┬─────────────────────┬───────┐\n",
       "│ a        ┆ b        ┆ c                   ┆ d     │\n",
       "│ ---      ┆ ---      ┆ ---                 ┆ ---   │\n",
       "│ f64      ┆ f64      ┆ datetime[μs]        ┆ f64   │\n",
       "╞══════════╪══════════╪═════════════════════╪═══════╡\n",
       "│ 0.0      ┆ 0.041047 ┆ 2022-12-01 00:00:00 ┆ 1.0   │\n",
       "│ 0.535464 ┆ 0.535464 ┆ 2022-12-02 00:00:00 ┆ 2.0   │\n",
       "│ 2.0      ┆ 0.570044 ┆ 2022-12-03 00:00:00 ┆ NaN   │\n",
       "│ 3.0      ┆ 0.194183 ┆ 2022-12-04 00:00:00 ┆ NaN   │\n",
       "│ 4.0      ┆ 0.796046 ┆ 2022-12-05 00:00:00 ┆ 0.0   │\n",
       "│ 5.0      ┆ 0.851494 ┆ 2022-12-06 00:00:00 ┆ -5.0  │\n",
       "│ 6.0      ┆ 0.944507 ┆ 2022-12-07 00:00:00 ┆ -42.0 │\n",
       "│ 7.0      ┆ 0.597031 ┆ 2022-12-08 00:00:00 ┆ null  │\n",
       "└──────────┴──────────┴─────────────────────┴───────┘"
      ]
     },
     "execution_count": 30,
     "metadata": {},
     "output_type": "execute_result"
    }
   ],
   "source": [
    "df1_pl.with_columns(\n",
    "    pl.when(pl.col(\"d\") == 2)\n",
    "    .then(pl.col(\"b\"))\n",
    "    .otherwise(pl.col(\"a\")).alias(\"a\")\n",
    ")\n"
   ]
  },
  {
   "cell_type": "markdown",
   "metadata": {},
   "source": [
    "If we want to add a new column, a column called tenb where the value column is multiplied by 10 and b:\n",
    "    \n",
    "In `Pandas` this would be:\n"
   ]
  },
  {
   "cell_type": "code",
   "execution_count": 31,
   "metadata": {
    "tags": []
   },
   "outputs": [
    {
     "data": {
      "text/html": [
       "<div>\n",
       "<style scoped>\n",
       "    .dataframe tbody tr th:only-of-type {\n",
       "        vertical-align: middle;\n",
       "    }\n",
       "\n",
       "    .dataframe tbody tr th {\n",
       "        vertical-align: top;\n",
       "    }\n",
       "\n",
       "    .dataframe thead th {\n",
       "        text-align: right;\n",
       "    }\n",
       "</style>\n",
       "<table border=\"1\" class=\"dataframe\">\n",
       "  <thead>\n",
       "    <tr style=\"text-align: right;\">\n",
       "      <th></th>\n",
       "      <th>a</th>\n",
       "      <th>b</th>\n",
       "      <th>c</th>\n",
       "      <th>d</th>\n",
       "      <th>tenb</th>\n",
       "    </tr>\n",
       "  </thead>\n",
       "  <tbody>\n",
       "    <tr>\n",
       "      <th>0</th>\n",
       "      <td>0.000000</td>\n",
       "      <td>0.768769</td>\n",
       "      <td>2022-12-01</td>\n",
       "      <td>1.0</td>\n",
       "      <td>7.687688</td>\n",
       "    </tr>\n",
       "    <tr>\n",
       "      <th>1</th>\n",
       "      <td>0.884476</td>\n",
       "      <td>0.884476</td>\n",
       "      <td>2022-12-02</td>\n",
       "      <td>2.0</td>\n",
       "      <td>8.844763</td>\n",
       "    </tr>\n",
       "    <tr>\n",
       "      <th>2</th>\n",
       "      <td>2.000000</td>\n",
       "      <td>0.299420</td>\n",
       "      <td>2022-12-03</td>\n",
       "      <td>NaN</td>\n",
       "      <td>2.994201</td>\n",
       "    </tr>\n",
       "    <tr>\n",
       "      <th>3</th>\n",
       "      <td>3.000000</td>\n",
       "      <td>0.759372</td>\n",
       "      <td>2022-12-04</td>\n",
       "      <td>NaN</td>\n",
       "      <td>7.593722</td>\n",
       "    </tr>\n",
       "    <tr>\n",
       "      <th>4</th>\n",
       "      <td>4.000000</td>\n",
       "      <td>0.019084</td>\n",
       "      <td>2022-12-05</td>\n",
       "      <td>0.0</td>\n",
       "      <td>0.190841</td>\n",
       "    </tr>\n",
       "    <tr>\n",
       "      <th>5</th>\n",
       "      <td>5.000000</td>\n",
       "      <td>0.474684</td>\n",
       "      <td>2022-12-06</td>\n",
       "      <td>-5.0</td>\n",
       "      <td>4.746837</td>\n",
       "    </tr>\n",
       "    <tr>\n",
       "      <th>6</th>\n",
       "      <td>6.000000</td>\n",
       "      <td>0.409743</td>\n",
       "      <td>2022-12-07</td>\n",
       "      <td>-42.0</td>\n",
       "      <td>4.097428</td>\n",
       "    </tr>\n",
       "    <tr>\n",
       "      <th>7</th>\n",
       "      <td>7.000000</td>\n",
       "      <td>0.290348</td>\n",
       "      <td>2022-12-08</td>\n",
       "      <td>NaN</td>\n",
       "      <td>2.903477</td>\n",
       "    </tr>\n",
       "  </tbody>\n",
       "</table>\n",
       "</div>"
      ],
      "text/plain": [
       "          a         b          c     d      tenb\n",
       "0  0.000000  0.768769 2022-12-01   1.0  7.687688\n",
       "1  0.884476  0.884476 2022-12-02   2.0  8.844763\n",
       "2  2.000000  0.299420 2022-12-03   NaN  2.994201\n",
       "3  3.000000  0.759372 2022-12-04   NaN  7.593722\n",
       "4  4.000000  0.019084 2022-12-05   0.0  0.190841\n",
       "5  5.000000  0.474684 2022-12-06  -5.0  4.746837\n",
       "6  6.000000  0.409743 2022-12-07 -42.0  4.097428\n",
       "7  7.000000  0.290348 2022-12-08   NaN  2.903477"
      ]
     },
     "execution_count": 31,
     "metadata": {},
     "output_type": "execute_result"
    }
   ],
   "source": [
    "df1_pd[\"tenb\"] = df1_pd[\"b\"] * 10\n",
    "df1_pd"
   ]
  },
  {
   "cell_type": "markdown",
   "metadata": {},
   "source": [
    "In `Polars` we add columns to df using the `.with_columns()` method and name them with the `.alias()` method:\n"
   ]
  },
  {
   "cell_type": "code",
   "execution_count": 32,
   "metadata": {
    "tags": []
   },
   "outputs": [
    {
     "data": {
      "text/html": [
       "<div><style>\n",
       ".dataframe > thead > tr > th,\n",
       ".dataframe > tbody > tr > td {\n",
       "  text-align: right;\n",
       "}\n",
       "</style>\n",
       "<small>shape: (8, 5)</small><table border=\"1\" class=\"dataframe\"><thead><tr><th>a</th><th>b</th><th>c</th><th>d</th><th>tenb</th></tr><tr><td>i64</td><td>f64</td><td>datetime[μs]</td><td>f64</td><td>f64</td></tr></thead><tbody><tr><td>0</td><td>0.041047</td><td>2022-12-01 00:00:00</td><td>1.0</td><td>0.410468</td></tr><tr><td>1</td><td>0.535464</td><td>2022-12-02 00:00:00</td><td>2.0</td><td>5.354637</td></tr><tr><td>2</td><td>0.570044</td><td>2022-12-03 00:00:00</td><td>NaN</td><td>5.70044</td></tr><tr><td>3</td><td>0.194183</td><td>2022-12-04 00:00:00</td><td>NaN</td><td>1.941833</td></tr><tr><td>4</td><td>0.796046</td><td>2022-12-05 00:00:00</td><td>0.0</td><td>7.960461</td></tr><tr><td>5</td><td>0.851494</td><td>2022-12-06 00:00:00</td><td>-5.0</td><td>8.514939</td></tr><tr><td>6</td><td>0.944507</td><td>2022-12-07 00:00:00</td><td>-42.0</td><td>9.445072</td></tr><tr><td>7</td><td>0.597031</td><td>2022-12-08 00:00:00</td><td>null</td><td>5.970311</td></tr></tbody></table></div>"
      ],
      "text/plain": [
       "shape: (8, 5)\n",
       "┌─────┬──────────┬─────────────────────┬───────┬──────────┐\n",
       "│ a   ┆ b        ┆ c                   ┆ d     ┆ tenb     │\n",
       "│ --- ┆ ---      ┆ ---                 ┆ ---   ┆ ---      │\n",
       "│ i64 ┆ f64      ┆ datetime[μs]        ┆ f64   ┆ f64      │\n",
       "╞═════╪══════════╪═════════════════════╪═══════╪══════════╡\n",
       "│ 0   ┆ 0.041047 ┆ 2022-12-01 00:00:00 ┆ 1.0   ┆ 0.410468 │\n",
       "│ 1   ┆ 0.535464 ┆ 2022-12-02 00:00:00 ┆ 2.0   ┆ 5.354637 │\n",
       "│ 2   ┆ 0.570044 ┆ 2022-12-03 00:00:00 ┆ NaN   ┆ 5.70044  │\n",
       "│ 3   ┆ 0.194183 ┆ 2022-12-04 00:00:00 ┆ NaN   ┆ 1.941833 │\n",
       "│ 4   ┆ 0.796046 ┆ 2022-12-05 00:00:00 ┆ 0.0   ┆ 7.960461 │\n",
       "│ 5   ┆ 0.851494 ┆ 2022-12-06 00:00:00 ┆ -5.0  ┆ 8.514939 │\n",
       "│ 6   ┆ 0.944507 ┆ 2022-12-07 00:00:00 ┆ -42.0 ┆ 9.445072 │\n",
       "│ 7   ┆ 0.597031 ┆ 2022-12-08 00:00:00 ┆ null  ┆ 5.970311 │\n",
       "└─────┴──────────┴─────────────────────┴───────┴──────────┘"
      ]
     },
     "execution_count": 32,
     "metadata": {},
     "output_type": "execute_result"
    }
   ],
   "source": [
    "df1_pl.with_columns([\n",
    "    (pl.col(\"b\") * 10).alias(\"tenb\"),\n",
    "])"
   ]
  },
  {
   "cell_type": "markdown",
   "metadata": {},
   "source": [
    "In `Polars` multiple column assignments could be executed in parallel.\n"
   ]
  },
  {
   "cell_type": "markdown",
   "metadata": {},
   "source": [
    "Here is the comparision of `Pandas` and `Polars` from the  [Polars website](https://pola-rs.github.io/polars-book/user-guide/howcani/selecting_data/selecting_data_indexing.html?utm_medium=Exinfluencer&utm_source=Exinfluencer&utm_content=000026UJ&utm_term=10006555&utm_id=NA-SkillsNetwork-Channel-SkillsNetworkGuidedProjectsIBMSkillsNetworkGPXX0BM6EN2207-2022-01-01):\n"
   ]
  },
  {
   "cell_type": "markdown",
   "metadata": {},
   "source": [
    "<img src=\"https://cf-courses-data.s3.us.cloud-object-storage.appdomain.cloud/IBMSkillsNetwork-GPXX0BM6EN/images/Compare.png\" width=\"40%\">\n"
   ]
  },
  {
   "cell_type": "markdown",
   "metadata": {},
   "source": [
    "### Missing data\n"
   ]
  },
  {
   "cell_type": "markdown",
   "metadata": {},
   "source": [
    "`Pandas` uses **NaN** and/or **None** values to indicate missing values depending on the dtype of the column. In addition the behaviour in `Pandas` varies depending on whether the default dtypes or optional nullable arrays are used. \n",
    "\n",
    "In `Polars` missing data corresponds to a **null** value for all data types. For float columns `Polars` permits the use of NaN values. These NaN values are not considered to be missing data but instead a special floating point value.\n",
    "\n",
    "Thus, we use `.fillna()` method in `Pandas` and `.fill_null()` method in `Polars` to fill the missing data.\n"
   ]
  },
  {
   "cell_type": "markdown",
   "metadata": {},
   "source": [
    "----\n"
   ]
  },
  {
   "cell_type": "markdown",
   "metadata": {},
   "source": [
    "## Which library should we choose?\n",
    "    \n",
    "    \n",
    "    \n",
    "\n",
    "   \n",
    "    \n"
   ]
  },
  {
   "cell_type": "markdown",
   "metadata": {},
   "source": [
    "Our choice of the library depends one the difference of the libraries, especially the efficiency dealing with large-size dataset.\n",
    "\n",
    "Here, we are focusing the difference and comparing the efficiency of `Pandas` and `Polars`:\n",
    "    \n",
    "We load the ```dataset``` we use to test the speed first: (wait ~2 mins till the dataset are imported in the system in the left)\n"
   ]
  },
  {
   "cell_type": "code",
   "execution_count": 33,
   "metadata": {
    "tags": []
   },
   "outputs": [
    {
     "data": {
      "application/vnd.jupyter.widget-view+json": {
       "model_id": "71f1f29bbdfd421fa9ea4e1d4efc48aa",
       "version_major": 2,
       "version_minor": 0
      },
      "text/plain": [
       "Downloading data.zip:   0%|          | 0/87696355 [00:00<?, ?it/s]"
      ]
     },
     "metadata": {},
     "output_type": "display_data"
    },
    {
     "data": {
      "application/vnd.jupyter.widget-view+json": {
       "model_id": "6ac95bce24e6497fa7bc9479312c71dc",
       "version_major": 2,
       "version_minor": 0
      },
      "text/plain": [
       "  0%|          | 0/20 [00:00<?, ?it/s]"
      ]
     },
     "metadata": {},
     "output_type": "display_data"
    },
    {
     "name": "stdout",
     "output_type": "stream",
     "text": [
      "Saved to '.'\n"
     ]
    }
   ],
   "source": [
    "dataset_url=\"https://cf-courses-data.s3.us.cloud-object-storage.appdomain.cloud/IBMSkillsNetwork-GPXX0BM6EN/data.zip\"\n",
    "await skillsnetwork.prepare(dataset_url, overwrite=True)"
   ]
  },
  {
   "cell_type": "markdown",
   "metadata": {},
   "source": [
    "### Read data\n",
    "\n",
    "We'd like to test the data reading speed of `Pandas` and `Polars` by reading 6 csv files with strings, floats, integers and date, the file have 1000-500000 rows of samples, here are the speed result: \n"
   ]
  },
  {
   "cell_type": "code",
   "execution_count": 34,
   "metadata": {
    "tags": []
   },
   "outputs": [
    {
     "name": "stderr",
     "output_type": "stream",
     "text": [
      "100%|██████████| 6/6 [00:03<00:00,  1.79it/s]\n"
     ]
    },
    {
     "data": {
      "image/png": "[encoded data removed]",
      "text/plain": [
       "<Figure size 640x480 with 1 Axes>"
      ]
     },
     "metadata": {},
     "output_type": "display_data"
    }
   ],
   "source": [
    "# Prepare data\n",
    "elapsed_time_pl = []   # list to store the elapsed time for Polars\n",
    "elapsed_time_pd = []   # list to store the elapsed time for Pandas\n",
    "file_name = ['data/data{}.csv'.format(str(i+1)) for i in range (6)]   # list of file names to read data from\n",
    "\n",
    "# Loop through the files\n",
    "for i in tqdm(range(6)):\n",
    "    # Read data using Polars\n",
    "    df=[]   # create an empty list to store data\n",
    "    start_time = dt.datetime.now()   # record start time\n",
    "    df=pl.read_csv(file_name[i])   # read the data into the list\n",
    "    end_time = dt.datetime.now()   # record end time\n",
    "    time1 = (end_time - start_time).total_seconds()   # calculate elapsed time in seconds\n",
    "    elapsed_time_pl.append(time1)   # append elapsed time to the list\n",
    "    \n",
    "    # Read data using Pandas\n",
    "    df=[]   # create an empty list to store data\n",
    "    start_time = dt.datetime.now()   # record start time\n",
    "    df=pd.read_csv(file_name[i])   # read the data into the list\n",
    "    end_time = dt.datetime.now()   # record end time\n",
    "    time2 = (end_time - start_time).total_seconds()   # calculate elapsed time in seconds\n",
    "    elapsed_time_pd.append(time2)   # append elapsed time to the list\n",
    "    \n",
    "# Plot the reading time, in second\n",
    "plt.plot([1000,10000,20000,50000,100000,500000],elapsed_time_pl,label='Polars')   # plot elapsed time for Polars against sample size\n",
    "plt.plot([1000,10000,20000,50000,100000,500000],elapsed_time_pd,label='Pandas')   # plot elapsed time for Pandas against sample size\n",
    "plt.legend(loc=\"upper left\")   # set the location of the legend\n",
    "plt.ylabel('time (s)')   # label the y-axis\n",
    "plt.xlabel('Rows read')   # label the x-axis\n",
    "plt.title(\"Read csv file speed\")   # set the title of the plot\n",
    "plt.show()   # display the plot\n",
    "\n",
    "\n"
   ]
  },
  {
   "cell_type": "markdown",
   "metadata": {},
   "source": [
    "### Select columns\n",
    "\n",
    "We are selecting int_col0 and float_col0 as an example to test column selecting speed:\n"
   ]
  },
  {
   "cell_type": "code",
   "execution_count": 35,
   "metadata": {
    "tags": []
   },
   "outputs": [
    {
     "name": "stderr",
     "output_type": "stream",
     "text": [
      "100%|██████████| 6/6 [00:03<00:00,  1.78it/s]\n"
     ]
    },
    {
     "data": {
      "image/png": "[encoded data removed]",
      "text/plain": [
       "<Figure size 640x480 with 1 Axes>"
      ]
     },
     "metadata": {},
     "output_type": "display_data"
    }
   ],
   "source": [
    "# Prepare data\n",
    "elapsed_time_pl = []   # list to store the elapsed time for Polars\n",
    "elapsed_time_pd = []   # list to store the elapsed time for Pandas\n",
    "file_name = ['data/data{}.csv'.format(str(i+1)) for i in range (6)]   # list of file names to read data from\n",
    "\n",
    "# Loop through the files\n",
    "for i in tqdm(range(6)):\n",
    "    # Polars dataframe\n",
    "    df=[]   # create an empty list to store data\n",
    "    df1=[]   # create another empty list to store selected columns\n",
    "    df=pl.read_csv(file_name[i])   # read the data into the list\n",
    "    start_time = dt.datetime.now()   # record start time\n",
    "    df1=df.select(pl.col(['int_col_0', 'float_col_0']))   # select the desired columns\n",
    "    end_time = dt.datetime.now()   # record end time\n",
    "    time1 = (end_time - start_time).total_seconds()   # calculate elapsed time in seconds\n",
    "    elapsed_time_pl.append(time1)   # append elapsed time to the list\n",
    "    \n",
    "    # Pandas dataframe\n",
    "    df=[]   # create an empty list to store data\n",
    "    df1=[]   # create another empty list to store selected columns\n",
    "    df=pd.read_csv(file_name[i])   # read the data into the list\n",
    "    start_time = dt.datetime.now()   # record start time\n",
    "    df1=df[['int_col_0', 'float_col_0']]   # select the desired columns\n",
    "    end_time = dt.datetime.now()   # record end time\n",
    "    time2 = (end_time - start_time).total_seconds()   # calculate elapsed time in seconds\n",
    "    elapsed_time_pd.append(time2)   # append elapsed time to the list\n",
    "    \n",
    "# Plot the elapsed time against sample size\n",
    "plt.plot([1000,10000,20000,50000,100000,500000],elapsed_time_pl,label='Polars')   # plot elapsed time for Polars against sample size\n",
    "plt.plot([1000,10000,20000,50000,100000,500000],elapsed_time_pd,label='Pandas')   # plot elapsed time for Pandas against sample size\n",
    "plt.legend(loc=\"upper left\")   # set the location of the legend\n",
    "plt.ylabel('time (s)')   # label the y-axis\n",
    "plt.xlabel('Rows selected')   # label the x-axis\n",
    "plt.title(\"Selecting column speed\")   # set the title of the plot\n",
    "plt.show()   # display the plot\n"
   ]
  },
  {
   "cell_type": "markdown",
   "metadata": {},
   "source": [
    "### Filter\n",
    "\n",
    "We are selecting the column in which int_col0 >25 to see the time use using `Pandas` and `Polars`:\n"
   ]
  },
  {
   "cell_type": "code",
   "execution_count": 36,
   "metadata": {
    "tags": []
   },
   "outputs": [
    {
     "name": "stderr",
     "output_type": "stream",
     "text": [
      "100%|██████████| 6/6 [00:03<00:00,  1.58it/s]\n"
     ]
    },
    {
     "data": {
      "image/png": "[encoded data removed]",
      "text/plain": [
       "<Figure size 640x480 with 1 Axes>"
      ]
     },
     "metadata": {},
     "output_type": "display_data"
    }
   ],
   "source": [
    "# preparation\n",
    "elapsed_time_pl = []\n",
    "elapsed_time_pd = []\n",
    "file_name = ['data/data{}.csv'.format(str(i+1)) for i in range (6)]   # list of file names to read data from\n",
    "\n",
    "# Loop through the files\n",
    "for i in tqdm(range(6)):\n",
    "    # Polars dataframe\n",
    "    df=[]\n",
    "    df1=[]\n",
    "    df=pl.read_csv(file_name[i])\n",
    "    \n",
    "    start_time = dt.datetime.now()\n",
    "    df1=df.filter(pl.col('int_col_0') > 25) \n",
    "    end_time = dt.datetime.now()\n",
    "    \n",
    "    time1 = (end_time - start_time).total_seconds()\n",
    "    elapsed_time_pl.append(time1)\n",
    "    \n",
    "    # Pandas dataframe\n",
    "    df=[]\n",
    "    df=pd.read_csv(file_name[i])\n",
    "    \n",
    "    start_time = dt.datetime.now()\n",
    "    df1=df.query('int_col_0 > 25')\n",
    "    end_time = dt.datetime.now()\n",
    "    \n",
    "    time2 = (end_time - start_time).total_seconds()\n",
    "    elapsed_time_pd.append(time2)\n",
    "    \n",
    "# Plot the reading time, in second\n",
    "plt.plot([1000,10000,20000,50000,100000,500000],elapsed_time_pl,label='Polars')\n",
    "plt.plot([1000,10000,20000,50000,100000,500000],elapsed_time_pd,label='Pandas')\n",
    "plt.legend(loc=\"upper left\")\n",
    "plt.ylabel('time (s)')\n",
    "plt.xlabel('Rows filtered')\n",
    "plt.title(\"Filtering speed\")\n",
    "plt.show()"
   ]
  },
  {
   "cell_type": "markdown",
   "metadata": {},
   "source": [
    "### Calculation and creating new columns\n",
    "\n",
    "We are creating two columns 'tenint' and 'tenfload' which are ten time of the values in columns 'int_col_0' and 'float_col_0'. We are checking the time spend of doing so using `Pandas` and `Polars`:\n"
   ]
  },
  {
   "cell_type": "code",
   "execution_count": 37,
   "metadata": {
    "tags": []
   },
   "outputs": [
    {
     "name": "stderr",
     "output_type": "stream",
     "text": [
      "100%|██████████| 6/6 [00:03<00:00,  1.62it/s]\n"
     ]
    },
    {
     "data": {
      "image/png": "[encoded data removed]",
      "text/plain": [
       "<Figure size 640x480 with 1 Axes>"
      ]
     },
     "metadata": {},
     "output_type": "display_data"
    }
   ],
   "source": [
    "# preparation\n",
    "elapsed_time_pl = []\n",
    "elapsed_time_pd = []\n",
    "file_name = ['data/data{}.csv'.format(str(i+1)) for i in range (6)]   # list of file names to read data from\n",
    "\n",
    "# Loop through the files\n",
    "for i in tqdm(range(6)):\n",
    "    # Polars dataframe\n",
    "    df=[]\n",
    "    df=pl.read_csv(file_name[i])\n",
    "    \n",
    "    start_time = dt.datetime.now()\n",
    "    df.with_columns([\n",
    "    (pl.col(\"int_col_0\") * 10).alias(\"tenint\"),\n",
    "    (pl.col(\"float_col_0\") * 10).alias(\"tenfloat\"),\n",
    "    ])\n",
    "    end_time = dt.datetime.now()\n",
    "    \n",
    "    time1 = (end_time - start_time).total_seconds()\n",
    "    elapsed_time_pl.append(time1)\n",
    "    \n",
    "    # Pandas dataframe\n",
    "    df=[]\n",
    "    df=pd.read_csv(file_name[i])\n",
    "    \n",
    "    start_time = dt.datetime.now()\n",
    "    df[\"tenint\"] = df[\"int_col_0\"] * 10\n",
    "    df[\"tenfloat\"] = df[\"float_col_0\"] * 10\n",
    "    end_time = dt.datetime.now()\n",
    "    \n",
    "    time2 = (end_time - start_time).total_seconds()\n",
    "    elapsed_time_pd.append(time2)\n",
    "    \n",
    "# Plot the reading time, in second\n",
    "plt.plot([1000,10000,20000,50000,100000,500000],elapsed_time_pl,label='Polars')\n",
    "plt.plot([1000,10000,20000,50000,100000,500000],elapsed_time_pd,label='Pandas')\n",
    "plt.legend(loc=\"upper left\")\n",
    "plt.ylabel('time (s)')\n",
    "plt.xlabel('Rows modified')\n",
    "plt.title(\"Calculation and new column file speed\")\n",
    "plt.show()"
   ]
  },
  {
   "cell_type": "markdown",
   "metadata": {},
   "source": [
    "From the result above, we notice that `Polars` is more efficient in **reading data, selecting data, calculation and creating new columns**, bacause `Polars` use `Pyarrow` to store data and calculation executed in parallel.\n",
    "\n",
    "`Pandas` is faster **in filtering** as it has advanced algorithms for this task.\n"
   ]
  },
  {
   "cell_type": "markdown",
   "metadata": {},
   "source": [
    "----\n"
   ]
  },
  {
   "cell_type": "markdown",
   "metadata": {},
   "source": [
    "## Try using Polars and Pandas yourself\n"
   ]
  },
  {
   "cell_type": "markdown",
   "metadata": {},
   "source": [
    "<img src=\"https://cf-courses-data.s3.us.cloud-object-storage.appdomain.cloud/IBMSkillsNetwork-GPXX0BM6EN/images/3.jpeg\" width=\"30%\">\n"
   ]
  },
  {
   "cell_type": "markdown",
   "metadata": {},
   "source": [
    "### Exercise 1 - Loading a dataset\n",
    "\n",
    "Use `Polars` to read data file 'data7.json' as 'df8_pl','data8.json' as 'df8_pd'. The two json files are stored in the 'data' foler; and use `Pandas` to read the same data file as 'df8_pd':\n"
   ]
  },
  {
   "cell_type": "code",
   "execution_count": 43,
   "metadata": {
    "tags": []
   },
   "outputs": [],
   "source": [
    "# Code here\n",
    "\n",
    "df8_pl=pl.read_json('data/data7.json')\n",
    "df8_pd=pd.read_json('data/data8.json')\n"
   ]
  },
  {
   "cell_type": "markdown",
   "metadata": {},
   "source": [
    "### Exercise 2 - Filtering data\n"
   ]
  },
  {
   "cell_type": "markdown",
   "metadata": {},
   "source": [
    "Use `Polars` or `Pandas` to filter data file imported in exercise 1 with the rows in which 'int_col_1' > 60\n"
   ]
  },
  {
   "cell_type": "code",
   "execution_count": 44,
   "metadata": {
    "tags": []
   },
   "outputs": [
    {
     "data": {
      "text/html": [
       "<div><style>\n",
       ".dataframe > thead > tr > th,\n",
       ".dataframe > tbody > tr > td {\n",
       "  text-align: right;\n",
       "}\n",
       "</style>\n",
       "<small>shape: (39_057, 16)</small><table border=\"1\" class=\"dataframe\"><thead><tr><th>int_col_0</th><th>int_col_1</th><th>int_col_2</th><th>int_col_3</th><th>int_col_4</th><th>float_col_0</th><th>float_col_1</th><th>float_col_2</th><th>float_col_3</th><th>float_col_4</th><th>string_col_0</th><th>string_col_1</th><th>string_col_2</th><th>string_col_3</th><th>string_col_4</th><th>time</th></tr><tr><td>i64</td><td>i64</td><td>i64</td><td>i64</td><td>i64</td><td>f64</td><td>f64</td><td>f64</td><td>f64</td><td>f64</td><td>str</td><td>str</td><td>str</td><td>str</td><td>str</td><td>datetime[μs]</td></tr></thead><tbody><tr><td>77</td><td>81</td><td>73</td><td>44</td><td>36</td><td>40.054009</td><td>7.402956</td><td>22.428017</td><td>12.43181</td><td>10.386341</td><td>&quot;fTFoQhDFNN&quot;</td><td>&quot;jFkRceLPCp&quot;</td><td>&quot;QPiKYsvEOP&quot;</td><td>&quot;JfTNKhKXpn&quot;</td><td>&quot;yUeWfkaiir&quot;</td><td>2018-09-07 09:49:54</td></tr><tr><td>3</td><td>96</td><td>25</td><td>34</td><td>88</td><td>47.9245</td><td>26.568838</td><td>9.555392</td><td>58.111476</td><td>84.149093</td><td>&quot;pEHJXimkhO&quot;</td><td>&quot;YnZbKmAbCS&quot;</td><td>&quot;HwZsKinHRX&quot;</td><td>&quot;lqFBhrseKW&quot;</td><td>&quot;fqhNzbnVQY&quot;</td><td>2030-10-16 15:19:36</td></tr><tr><td>52</td><td>61</td><td>67</td><td>6</td><td>91</td><td>33.92716</td><td>34.028754</td><td>77.071225</td><td>4.388086</td><td>29.222031</td><td>&quot;egLsMLSgwE&quot;</td><td>&quot;QTlmMUgygI&quot;</td><td>&quot;lyIWQjUlkg&quot;</td><td>&quot;jSPDLHgEjw&quot;</td><td>&quot;pRPFKEAsNI&quot;</td><td>2009-03-03 10:25:03</td></tr><tr><td>49</td><td>81</td><td>99</td><td>11</td><td>87</td><td>94.635913</td><td>86.20075</td><td>22.308278</td><td>64.819164</td><td>64.501591</td><td>&quot;hzNgroibhA&quot;</td><td>&quot;KsGYuenNZk&quot;</td><td>&quot;WsrXlUxMDu&quot;</td><td>&quot;aNqOHvpckg&quot;</td><td>&quot;TzQUwqQHnw&quot;</td><td>2021-04-05 02:47:04</td></tr><tr><td>58</td><td>94</td><td>96</td><td>36</td><td>33</td><td>41.915328</td><td>72.920732</td><td>66.927619</td><td>33.603619</td><td>35.956154</td><td>&quot;VgOPQgYZym&quot;</td><td>&quot;kLeMbHSBeA&quot;</td><td>&quot;brwGVfCdGL&quot;</td><td>&quot;xVHTrIhREG&quot;</td><td>&quot;ZofppPBNul&quot;</td><td>2006-07-06 00:30:29</td></tr><tr><td>4</td><td>71</td><td>95</td><td>84</td><td>4</td><td>54.564859</td><td>81.868</td><td>81.686725</td><td>8.022459</td><td>1.506812</td><td>&quot;HbyiANNCSB&quot;</td><td>&quot;SZRVVRUPWo&quot;</td><td>&quot;nyCEGnBBQh&quot;</td><td>&quot;cioDVjaYkq&quot;</td><td>&quot;REJzRVIosc&quot;</td><td>2017-03-17 00:43:48</td></tr><tr><td>45</td><td>74</td><td>27</td><td>36</td><td>80</td><td>48.422695</td><td>52.344149</td><td>57.936614</td><td>19.0805</td><td>54.473411</td><td>&quot;lYKxgnVFzo&quot;</td><td>&quot;yumFqpZchb&quot;</td><td>&quot;sFhFhodhZJ&quot;</td><td>&quot;DcdovvgqnQ&quot;</td><td>&quot;gLZDxfMkoH&quot;</td><td>2030-11-16 21:56:18</td></tr><tr><td>2</td><td>84</td><td>98</td><td>55</td><td>21</td><td>41.656214</td><td>76.847958</td><td>80.385568</td><td>33.102856</td><td>72.290524</td><td>&quot;SvKnPXJKJc&quot;</td><td>&quot;TdCINNxAnm&quot;</td><td>&quot;bLoWrUYozo&quot;</td><td>&quot;WqOIkdBqcT&quot;</td><td>&quot;afxRlvSIbB&quot;</td><td>2030-09-04 21:57:05</td></tr><tr><td>63</td><td>88</td><td>43</td><td>23</td><td>34</td><td>25.357887</td><td>57.761374</td><td>90.288894</td><td>26.334089</td><td>8.809834</td><td>&quot;ebEKEqmppx&quot;</td><td>&quot;YBsaZnsRZV&quot;</td><td>&quot;FdJIsvxRYp&quot;</td><td>&quot;LoSdJpDgJT&quot;</td><td>&quot;nKKhzqGFqW&quot;</td><td>2030-03-13 09:24:26</td></tr><tr><td>67</td><td>80</td><td>54</td><td>86</td><td>95</td><td>42.172419</td><td>73.694946</td><td>90.200476</td><td>35.124811</td><td>69.333655</td><td>&quot;EwChnGoKRf&quot;</td><td>&quot;dxgGJDWewC&quot;</td><td>&quot;OJOmkKUzha&quot;</td><td>&quot;zZltLVzzfG&quot;</td><td>&quot;XZxRbEGmLA&quot;</td><td>2023-12-01 21:44:01</td></tr><tr><td>10</td><td>99</td><td>61</td><td>62</td><td>77</td><td>93.637423</td><td>36.92</td><td>88.168811</td><td>61.551279</td><td>17.07409</td><td>&quot;IUAJocdkMw&quot;</td><td>&quot;KwSbRKRYVU&quot;</td><td>&quot;jbTtSpeKZL&quot;</td><td>&quot;qbBATDNMqc&quot;</td><td>&quot;lldXVUMGgh&quot;</td><td>2006-02-07 16:10:27</td></tr><tr><td>97</td><td>97</td><td>34</td><td>97</td><td>97</td><td>22.471413</td><td>58.022079</td><td>86.025063</td><td>76.90151</td><td>34.156243</td><td>&quot;rAtnDjzLrS&quot;</td><td>&quot;rDgmaYymmy&quot;</td><td>&quot;IHwuUUndXF&quot;</td><td>&quot;gZTyQAEDFK&quot;</td><td>&quot;AHKSgYilJJ&quot;</td><td>2008-03-09 21:49:35</td></tr><tr><td>&hellip;</td><td>&hellip;</td><td>&hellip;</td><td>&hellip;</td><td>&hellip;</td><td>&hellip;</td><td>&hellip;</td><td>&hellip;</td><td>&hellip;</td><td>&hellip;</td><td>&hellip;</td><td>&hellip;</td><td>&hellip;</td><td>&hellip;</td><td>&hellip;</td><td>&hellip;</td></tr><tr><td>47</td><td>93</td><td>82</td><td>5</td><td>55</td><td>32.493423</td><td>26.206998</td><td>73.452189</td><td>86.469513</td><td>85.488043</td><td>&quot;VHlUZpCqid&quot;</td><td>&quot;PZvKBmiXfN&quot;</td><td>&quot;wbpAUNnKIK&quot;</td><td>&quot;OtQNxabIAQ&quot;</td><td>&quot;qrlbUdYKBy&quot;</td><td>2016-10-09 02:14:47</td></tr><tr><td>60</td><td>79</td><td>59</td><td>82</td><td>1</td><td>90.17306</td><td>52.488952</td><td>79.87443</td><td>53.672872</td><td>88.584255</td><td>&quot;cpuPioMVko&quot;</td><td>&quot;xBBmBkWejv&quot;</td><td>&quot;NaXKTnXTvp&quot;</td><td>&quot;QdkleZtbUy&quot;</td><td>&quot;VUqCCpsOlq&quot;</td><td>2028-06-14 03:36:18</td></tr><tr><td>32</td><td>62</td><td>60</td><td>77</td><td>34</td><td>87.71233</td><td>43.822316</td><td>19.196402</td><td>94.907744</td><td>29.168343</td><td>&quot;rjsSmoIKLy&quot;</td><td>&quot;RoSMcRSjNU&quot;</td><td>&quot;POGITlVnGs&quot;</td><td>&quot;kukTNsZBOC&quot;</td><td>&quot;EJwfPTFUBb&quot;</td><td>2025-06-12 19:13:42</td></tr><tr><td>66</td><td>68</td><td>96</td><td>93</td><td>34</td><td>54.720459</td><td>65.178073</td><td>96.307066</td><td>77.232084</td><td>29.607152</td><td>&quot;XZLyVxzfXd&quot;</td><td>&quot;ryfUVySMtO&quot;</td><td>&quot;PdkCXuswBc&quot;</td><td>&quot;PreFpODaZf&quot;</td><td>&quot;KmzywBDpJi&quot;</td><td>2022-01-02 04:40:12</td></tr><tr><td>49</td><td>98</td><td>53</td><td>9</td><td>50</td><td>21.662703</td><td>80.515985</td><td>4.637559</td><td>75.483194</td><td>31.495084</td><td>&quot;GNheiqqLKh&quot;</td><td>&quot;CfzjuwGdlh&quot;</td><td>&quot;qnKyAuRNAu&quot;</td><td>&quot;VRifNsrYMF&quot;</td><td>&quot;myOhyKwZhU&quot;</td><td>2019-01-30 18:54:29</td></tr><tr><td>57</td><td>69</td><td>54</td><td>78</td><td>56</td><td>79.361423</td><td>99.237414</td><td>34.095759</td><td>26.878391</td><td>36.029521</td><td>&quot;zoQogHeoql&quot;</td><td>&quot;ImTWgSzade&quot;</td><td>&quot;veNDwKkhMC&quot;</td><td>&quot;mXCGAgiEun&quot;</td><td>&quot;bWmWzcOafo&quot;</td><td>2020-10-21 23:47:05</td></tr><tr><td>49</td><td>70</td><td>72</td><td>65</td><td>42</td><td>77.662101</td><td>33.030176</td><td>66.353118</td><td>87.289029</td><td>3.422953</td><td>&quot;jinfVQryQe&quot;</td><td>&quot;OlJRFyWGio&quot;</td><td>&quot;KlIEgAgYyd&quot;</td><td>&quot;nScznDnTLo&quot;</td><td>&quot;hQkmgBgoSY&quot;</td><td>2020-09-29 02:25:23</td></tr><tr><td>11</td><td>65</td><td>75</td><td>39</td><td>96</td><td>66.543993</td><td>95.962401</td><td>81.747827</td><td>96.73845</td><td>29.378264</td><td>&quot;KNKIILDQaq&quot;</td><td>&quot;cAGQfbrObT&quot;</td><td>&quot;tIknrnzLnH&quot;</td><td>&quot;VybzPnlOoP&quot;</td><td>&quot;BYTKerqNoC&quot;</td><td>2010-10-06 09:25:42</td></tr><tr><td>66</td><td>98</td><td>96</td><td>81</td><td>69</td><td>55.393249</td><td>36.177254</td><td>28.629931</td><td>65.491408</td><td>89.538759</td><td>&quot;EyYzOAUZZa&quot;</td><td>&quot;KuwaYlTFlI&quot;</td><td>&quot;xmkGFfGmXz&quot;</td><td>&quot;kcTqWdGCMg&quot;</td><td>&quot;ZAphryBUHF&quot;</td><td>2020-04-17 03:00:29</td></tr><tr><td>81</td><td>99</td><td>48</td><td>27</td><td>84</td><td>69.315977</td><td>19.718971</td><td>47.388834</td><td>51.013545</td><td>10.047321</td><td>&quot;oKUIGeCuAv&quot;</td><td>&quot;twgnlqmmbm&quot;</td><td>&quot;EvhoorTUwE&quot;</td><td>&quot;tSfwTNRcLA&quot;</td><td>&quot;rEUCTyeeES&quot;</td><td>2019-03-02 18:09:12</td></tr><tr><td>80</td><td>80</td><td>93</td><td>87</td><td>50</td><td>24.660629</td><td>28.007318</td><td>6.730969</td><td>3.195771</td><td>32.829875</td><td>&quot;VUTdbASpAm&quot;</td><td>&quot;trjsxatRUE&quot;</td><td>&quot;BxobodiBwS&quot;</td><td>&quot;EhRuJmRsWc&quot;</td><td>&quot;lsMcpEVXCY&quot;</td><td>2006-08-10 12:32:19</td></tr><tr><td>3</td><td>88</td><td>27</td><td>86</td><td>69</td><td>39.010993</td><td>43.126186</td><td>90.045505</td><td>90.273654</td><td>42.611432</td><td>&quot;VmkeMEVMKR&quot;</td><td>&quot;UqRDiNlwvY&quot;</td><td>&quot;APMKjPtBGI&quot;</td><td>&quot;fzxgwAutiD&quot;</td><td>&quot;waMZFOsspE&quot;</td><td>2015-05-20 04:23:32</td></tr></tbody></table></div>"
      ],
      "text/plain": [
       "shape: (39_057, 16)\n",
       "┌─────────┬───────────┬───────────┬──────────┬───┬────────────┬────────────┬────────────┬──────────┐\n",
       "│ int_col ┆ int_col_1 ┆ int_col_2 ┆ int_col_ ┆ … ┆ string_col ┆ string_col ┆ string_col ┆ time     │\n",
       "│ _0      ┆ ---       ┆ ---       ┆ 3        ┆   ┆ _2         ┆ _3         ┆ _4         ┆ ---      │\n",
       "│ ---     ┆ i64       ┆ i64       ┆ ---      ┆   ┆ ---        ┆ ---        ┆ ---        ┆ datetime │\n",
       "│ i64     ┆           ┆           ┆ i64      ┆   ┆ str        ┆ str        ┆ str        ┆ [μs]     │\n",
       "╞═════════╪═══════════╪═══════════╪══════════╪═══╪════════════╪════════════╪════════════╪══════════╡\n",
       "│ 77      ┆ 81        ┆ 73        ┆ 44       ┆ … ┆ QPiKYsvEOP ┆ JfTNKhKXpn ┆ yUeWfkaiir ┆ 2018-09- │\n",
       "│         ┆           ┆           ┆          ┆   ┆            ┆            ┆            ┆ 07       │\n",
       "│         ┆           ┆           ┆          ┆   ┆            ┆            ┆            ┆ 09:49:54 │\n",
       "│ 3       ┆ 96        ┆ 25        ┆ 34       ┆ … ┆ HwZsKinHRX ┆ lqFBhrseKW ┆ fqhNzbnVQY ┆ 2030-10- │\n",
       "│         ┆           ┆           ┆          ┆   ┆            ┆            ┆            ┆ 16       │\n",
       "│         ┆           ┆           ┆          ┆   ┆            ┆            ┆            ┆ 15:19:36 │\n",
       "│ 52      ┆ 61        ┆ 67        ┆ 6        ┆ … ┆ lyIWQjUlkg ┆ jSPDLHgEjw ┆ pRPFKEAsNI ┆ 2009-03- │\n",
       "│         ┆           ┆           ┆          ┆   ┆            ┆            ┆            ┆ 03       │\n",
       "│         ┆           ┆           ┆          ┆   ┆            ┆            ┆            ┆ 10:25:03 │\n",
       "│ 49      ┆ 81        ┆ 99        ┆ 11       ┆ … ┆ WsrXlUxMDu ┆ aNqOHvpckg ┆ TzQUwqQHnw ┆ 2021-04- │\n",
       "│         ┆           ┆           ┆          ┆   ┆            ┆            ┆            ┆ 05       │\n",
       "│         ┆           ┆           ┆          ┆   ┆            ┆            ┆            ┆ 02:47:04 │\n",
       "│ …       ┆ …         ┆ …         ┆ …        ┆ … ┆ …          ┆ …          ┆ …          ┆ …        │\n",
       "│ 66      ┆ 98        ┆ 96        ┆ 81       ┆ … ┆ xmkGFfGmXz ┆ kcTqWdGCMg ┆ ZAphryBUHF ┆ 2020-04- │\n",
       "│         ┆           ┆           ┆          ┆   ┆            ┆            ┆            ┆ 17       │\n",
       "│         ┆           ┆           ┆          ┆   ┆            ┆            ┆            ┆ 03:00:29 │\n",
       "│ 81      ┆ 99        ┆ 48        ┆ 27       ┆ … ┆ EvhoorTUwE ┆ tSfwTNRcLA ┆ rEUCTyeeES ┆ 2019-03- │\n",
       "│         ┆           ┆           ┆          ┆   ┆            ┆            ┆            ┆ 02       │\n",
       "│         ┆           ┆           ┆          ┆   ┆            ┆            ┆            ┆ 18:09:12 │\n",
       "│ 80      ┆ 80        ┆ 93        ┆ 87       ┆ … ┆ BxobodiBwS ┆ EhRuJmRsWc ┆ lsMcpEVXCY ┆ 2006-08- │\n",
       "│         ┆           ┆           ┆          ┆   ┆            ┆            ┆            ┆ 10       │\n",
       "│         ┆           ┆           ┆          ┆   ┆            ┆            ┆            ┆ 12:32:19 │\n",
       "│ 3       ┆ 88        ┆ 27        ┆ 86       ┆ … ┆ APMKjPtBGI ┆ fzxgwAutiD ┆ waMZFOsspE ┆ 2015-05- │\n",
       "│         ┆           ┆           ┆          ┆   ┆            ┆            ┆            ┆ 20       │\n",
       "│         ┆           ┆           ┆          ┆   ┆            ┆            ┆            ┆ 04:23:32 │\n",
       "└─────────┴───────────┴───────────┴──────────┴───┴────────────┴────────────┴────────────┴──────────┘"
      ]
     },
     "execution_count": 44,
     "metadata": {},
     "output_type": "execute_result"
    }
   ],
   "source": [
    "# Code here\n",
    "\n",
    "df8_pl.filter(pl.col('int_col_1') > 60)\n"
   ]
  },
  {
   "cell_type": "markdown",
   "metadata": {},
   "source": [
    "----\n"
   ]
  },
  {
   "cell_type": "markdown",
   "metadata": {},
   "source": [
    "<img src=\"https://cf-courses-data.s3.us.cloud-object-storage.appdomain.cloud/IBMSkillsNetwork-GPXX0BM6EN/images/4.png\" width=\"20%\">\n",
    "\n",
    "With [**Watson Studio**](https://www.ibm.com/cloud/watson-studio?utm_medium=Exinfluencer&utm_source=Exinfluencer&utm_content=000026UJ&utm_term=10006555&utm_id=NA-SkillsNetwork-Channel-SkillsNetworkGuidedProjectsIBMSkillsNetworkGPXX0BM6EN2207-2022-01-01), you can easily collect, clean, and analyze your data to make informed decisions. Whether you're a data scientist or a business analyst, Watson Studio provides an intuitive and collaborative environment to streamline your workflow and accelerate your projects.\n",
    "\n",
    "[Get started with **Watson Studio**](https://www.ibm.com/cloud/watson-studio?utm_medium=Exinfluencer&utm_source=Exinfluencer&utm_content=000026UJ&utm_term=10006555&utm_id=NA-SkillsNetwork-Channel-SkillsNetworkGuidedProjectsIBMSkillsNetworkGPXX0BM6EN2207-2022-01-01) by importing your data from a variety of sources including databases, spreadsheets, and cloud object storage. Then, leverage built-in machine learning models and deep learning frameworks to extract insights and uncover patterns in your data. Collaborate with your team in real-time to refine your models and streamline your workflow.\n"
   ]
  },
  {
   "cell_type": "markdown",
   "metadata": {},
   "source": [
    "## Authors\n"
   ]
  },
  {
   "cell_type": "markdown",
   "metadata": {},
   "source": [
    "[Junxing(J.C.) Chen](https://www.linkedin.com/in/junxing-chen-3591a4162/?utm_medium=Exinfluencer&utm_source=Exinfluencer&utm_content=000026UJ&utm_term=10006555&utm_id=NA-SkillsNetwork-Channel-SkillsNetworkGuidedProjectsIBMSkillsNetworkGPXX0BM6EN2207-2022-01-01) is a Data Scientist at IBM with strong interests in machine learning and cutting-edge technologies.\n"
   ]
  },
  {
   "cell_type": "markdown",
   "metadata": {},
   "source": [
    "## Change Log\n"
   ]
  },
  {
   "cell_type": "markdown",
   "metadata": {},
   "source": [
    "|Date (YYYY-MM-DD)|Version|Changed By|Change Description|\n",
    "|-|-|-|-|\n",
    "|2023-02-13|0.1|JC(Junxing) Chen|Create the Lab|\n"
   ]
  },
  {
   "cell_type": "markdown",
   "metadata": {},
   "source": [
    "Copyright © 2023 IBM Corporation. All rights reserved.\n"
   ]
  }
 ],
 "metadata": {
  "kernelspec": {
   "display_name": "Python",
   "language": "python",
   "name": "conda-env-python-py"
  },
  "language_info": {
   "codemirror_mode": {
    "name": "ipython",
    "version": 3
   },
   "file_extension": ".py",
   "mimetype": "text/x-python",
   "name": "python",
   "nbconvert_exporter": "python",
   "pygments_lexer": "ipython3",
   "version": "3.7.12"
  }
 },
 "nbformat": 4,
 "nbformat_minor": 4
}
